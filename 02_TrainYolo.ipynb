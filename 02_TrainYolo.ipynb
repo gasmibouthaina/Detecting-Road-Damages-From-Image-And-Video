{
  "cells": [
    {
      "cell_type": "markdown",
      "metadata": {
        "id": "view-in-github",
        "colab_type": "text"
      },
      "source": [
        "<a href=\"https://colab.research.google.com/github/gasmibouthaina/Detecting-Road-Damages-From-Image-And-Video/blob/main/02_TrainYolo.ipynb\" target=\"_parent\"><img src=\"https://colab.research.google.com/assets/colab-badge.svg\" alt=\"Open In Colab\"/></a>"
      ]
    },
    {
      "cell_type": "code",
      "execution_count": null,
      "metadata": {
        "colab": {
          "base_uri": "https://localhost:8080/",
          "height": 72
        },
        "id": "i6dv2J5PlEnt",
        "outputId": "8e340157-327a-4694-86d6-633866a29bad"
      },
      "outputs": [
        {
          "data": {
            "application/vnd.google.colaboratory.intrinsic+json": {
              "type": "string"
            },
            "text/plain": [
              "'\\ /\\n\\n'"
            ]
          },
          "execution_count": 1,
          "metadata": {},
          "output_type": "execute_result"
        }
      ],
      "source": [
        "# Sources\n",
        "'''\n",
        
        "\n",
        "'''\n",
        "\n",
        "\n",
        "\n",
        "\n"
      ]
    },
    {
      "cell_type": "code",
      "execution_count": null,
      "metadata": {
        "id": "wN_yx9sSlivw"
      },
      "outputs": [],
      "source": [
        "import os"
      ]
    },
    {
      "cell_type": "code",
      "execution_count": null,
      "metadata": {
        "colab": {
          "base_uri": "https://localhost:8080/"
        },
        "id": "khfTu8IqlSI_",
        "outputId": "c45b3c1a-05df-4c29-9c1a-ad13b16e0671"
      },
      "outputs": [
        {
          "name": "stdout",
          "output_type": "stream",
          "text": [
            "Mounted at /content/gdrive\n"
          ]
        }
      ],
      "source": [
        "from google.colab import drive\n",
        "\n",
        "drive.mount('/content/gdrive')"
      ]
    },
    {
      "cell_type": "code",
      "execution_count": null,
      "metadata": {
        "id": "toDVIBpslSLg"
      },
      "outputs": [],
      "source": [
        "root_path = r'gdrive/My Drive/work'  #change dir to your project folder\n",
        "os.chdir(root_path)"
      ]
    },
    {
      "cell_type": "code",
      "execution_count": null,
      "metadata": {
        "id": "HLxo1QoTlSOV"
      },
      "outputs": [],
      "source": [
        ""
      ]
    },
    {
      "cell_type": "code",
      "execution_count": null,
      "metadata": {
        "id": "TAYeO6d4lST2"
      },
      "outputs": [],
      "source": [
        ""
      ]
    },
    {
      "cell_type": "code",
      "execution_count": null,
      "metadata": {
        "colab": {
          "base_uri": "https://localhost:8080/"
        },
        "id": "N0lzi-YZlSXj",
        "outputId": "704c85f2-2ab4-4d35-9a3c-16113b14d00b"
      },
      "outputs": [
        {
          "name": "stdout",
          "output_type": "stream",
          "text": [
            "Cloning into 'yolov5'...\n",
            "remote: Enumerating objects: 11301, done.\u001b[K\n",
            "remote: Total 11301 (delta 0), reused 0 (delta 0), pack-reused 11301\u001b[K\n",
            "Receiving objects: 100% (11301/11301), 11.20 MiB | 6.89 MiB/s, done.\n",
            "Resolving deltas: 100% (7810/7810), done.\n"
          ]
        }
      ],
      "source": [
        "! git clone https://github.com/ultralytics/yolov5"
      ]
    },
    {
      "cell_type": "code",
      "execution_count": null,
      "metadata": {
        "id": "57ApBoHulMYI"
      },
      "outputs": [],
      "source": [
        "os.chdir(r\"yolov5\")"
      ]
    },
    {
      "cell_type": "code",
      "execution_count": null,
      "metadata": {
        "colab": {
          "base_uri": "https://localhost:8080/"
        },
        "id": "ViCumdlnlp0G",
        "outputId": "bc91eabc-c09a-4e1d-f872-bd1ddebc4a8a"
      },
      "outputs": [
        {
          "name": "stdout",
          "output_type": "stream",
          "text": [
            "Requirement already satisfied: matplotlib>=3.2.2 in /usr/local/lib/python3.7/dist-packages (from -r requirements.txt (line 4)) (3.2.2)\n",
            "Requirement already satisfied: numpy>=1.18.5 in /usr/local/lib/python3.7/dist-packages (from -r requirements.txt (line 5)) (1.21.5)\n",
            "Requirement already satisfied: opencv-python>=4.1.2 in /usr/local/lib/python3.7/dist-packages (from -r requirements.txt (line 6)) (4.1.2.30)\n",
            "Requirement already satisfied: Pillow>=7.1.2 in /usr/local/lib/python3.7/dist-packages (from -r requirements.txt (line 7)) (7.1.2)\n",
            "Collecting PyYAML>=5.3.1\n",
            "  Downloading PyYAML-6.0-cp37-cp37m-manylinux_2_5_x86_64.manylinux1_x86_64.manylinux_2_12_x86_64.manylinux2010_x86_64.whl (596 kB)\n",
            "\u001b[K     |████████████████████████████████| 596 kB 4.1 MB/s \n",
            "\u001b[?25hRequirement already satisfied: requests>=2.23.0 in /usr/local/lib/python3.7/dist-packages (from -r requirements.txt (line 9)) (2.23.0)\n",
            "Requirement already satisfied: scipy>=1.4.1 in /usr/local/lib/python3.7/dist-packages (from -r requirements.txt (line 10)) (1.4.1)\n",
            "Requirement already satisfied: torch>=1.7.0 in /usr/local/lib/python3.7/dist-packages (from -r requirements.txt (line 11)) (1.10.0+cu111)\n",
            "Requirement already satisfied: torchvision>=0.8.1 in /usr/local/lib/python3.7/dist-packages (from -r requirements.txt (line 12)) (0.11.1+cu111)\n",
            "Requirement already satisfied: tqdm>=4.41.0 in /usr/local/lib/python3.7/dist-packages (from -r requirements.txt (line 13)) (4.63.0)\n",
            "Requirement already satisfied: tensorboard>=2.4.1 in /usr/local/lib/python3.7/dist-packages (from -r requirements.txt (line 16)) (2.8.0)\n",
            "Requirement already satisfied: pandas>=1.1.4 in /usr/local/lib/python3.7/dist-packages (from -r requirements.txt (line 20)) (1.3.5)\n",
            "Requirement already satisfied: seaborn>=0.11.0 in /usr/local/lib/python3.7/dist-packages (from -r requirements.txt (line 21)) (0.11.2)\n",
            "Collecting thop\n",
            "  Downloading thop-0.0.31.post2005241907-py3-none-any.whl (8.7 kB)\n",
            "Requirement already satisfied: cycler>=0.10 in /usr/local/lib/python3.7/dist-packages (from matplotlib>=3.2.2->-r requirements.txt (line 4)) (0.11.0)\n",
            "Requirement already satisfied: python-dateutil>=2.1 in /usr/local/lib/python3.7/dist-packages (from matplotlib>=3.2.2->-r requirements.txt (line 4)) (2.8.2)\n",
            "Requirement already satisfied: kiwisolver>=1.0.1 in /usr/local/lib/python3.7/dist-packages (from matplotlib>=3.2.2->-r requirements.txt (line 4)) (1.3.2)\n",
            "Requirement already satisfied: pyparsing!=2.0.4,!=2.1.2,!=2.1.6,>=2.0.1 in /usr/local/lib/python3.7/dist-packages (from matplotlib>=3.2.2->-r requirements.txt (line 4)) (3.0.7)\n",
            "Requirement already satisfied: certifi>=2017.4.17 in /usr/local/lib/python3.7/dist-packages (from requests>=2.23.0->-r requirements.txt (line 9)) (2021.10.8)\n",
            "Requirement already satisfied: idna<3,>=2.5 in /usr/local/lib/python3.7/dist-packages (from requests>=2.23.0->-r requirements.txt (line 9)) (2.10)\n",
            "Requirement already satisfied: urllib3!=1.25.0,!=1.25.1,<1.26,>=1.21.1 in /usr/local/lib/python3.7/dist-packages (from requests>=2.23.0->-r requirements.txt (line 9)) (1.24.3)\n",
            "Requirement already satisfied: chardet<4,>=3.0.2 in /usr/local/lib/python3.7/dist-packages (from requests>=2.23.0->-r requirements.txt (line 9)) (3.0.4)\n",
            "Requirement already satisfied: typing-extensions in /usr/local/lib/python3.7/dist-packages (from torch>=1.7.0->-r requirements.txt (line 11)) (3.10.0.2)\n",
            "Requirement already satisfied: google-auth<3,>=1.6.3 in /usr/local/lib/python3.7/dist-packages (from tensorboard>=2.4.1->-r requirements.txt (line 16)) (1.35.0)\n",
            "Requirement already satisfied: tensorboard-data-server<0.7.0,>=0.6.0 in /usr/local/lib/python3.7/dist-packages (from tensorboard>=2.4.1->-r requirements.txt (line 16)) (0.6.1)\n",
            "Requirement already satisfied: wheel>=0.26 in /usr/local/lib/python3.7/dist-packages (from tensorboard>=2.4.1->-r requirements.txt (line 16)) (0.37.1)\n",
            "Requirement already satisfied: setuptools>=41.0.0 in /usr/local/lib/python3.7/dist-packages (from tensorboard>=2.4.1->-r requirements.txt (line 16)) (57.4.0)\n",
            "Requirement already satisfied: markdown>=2.6.8 in /usr/local/lib/python3.7/dist-packages (from tensorboard>=2.4.1->-r requirements.txt (line 16)) (3.3.6)\n",
            "Requirement already satisfied: protobuf>=3.6.0 in /usr/local/lib/python3.7/dist-packages (from tensorboard>=2.4.1->-r requirements.txt (line 16)) (3.17.3)\n",
            "Requirement already satisfied: google-auth-oauthlib<0.5,>=0.4.1 in /usr/local/lib/python3.7/dist-packages (from tensorboard>=2.4.1->-r requirements.txt (line 16)) (0.4.6)\n",
            "Requirement already satisfied: werkzeug>=0.11.15 in /usr/local/lib/python3.7/dist-packages (from tensorboard>=2.4.1->-r requirements.txt (line 16)) (1.0.1)\n",
            "Requirement already satisfied: tensorboard-plugin-wit>=1.6.0 in /usr/local/lib/python3.7/dist-packages (from tensorboard>=2.4.1->-r requirements.txt (line 16)) (1.8.1)\n",
            "Requirement already satisfied: absl-py>=0.4 in /usr/local/lib/python3.7/dist-packages (from tensorboard>=2.4.1->-r requirements.txt (line 16)) (1.0.0)\n",
            "Requirement already satisfied: grpcio>=1.24.3 in /usr/local/lib/python3.7/dist-packages (from tensorboard>=2.4.1->-r requirements.txt (line 16)) (1.44.0)\n",
            "Requirement already satisfied: pytz>=2017.3 in /usr/local/lib/python3.7/dist-packages (from pandas>=1.1.4->-r requirements.txt (line 20)) (2018.9)\n",
            "Requirement already satisfied: six in /usr/local/lib/python3.7/dist-packages (from absl-py>=0.4->tensorboard>=2.4.1->-r requirements.txt (line 16)) (1.15.0)\n",
            "Requirement already satisfied: cachetools<5.0,>=2.0.0 in /usr/local/lib/python3.7/dist-packages (from google-auth<3,>=1.6.3->tensorboard>=2.4.1->-r requirements.txt (line 16)) (4.2.4)\n",
            "Requirement already satisfied: rsa<5,>=3.1.4 in /usr/local/lib/python3.7/dist-packages (from google-auth<3,>=1.6.3->tensorboard>=2.4.1->-r requirements.txt (line 16)) (4.8)\n",
            "Requirement already satisfied: pyasn1-modules>=0.2.1 in /usr/local/lib/python3.7/dist-packages (from google-auth<3,>=1.6.3->tensorboard>=2.4.1->-r requirements.txt (line 16)) (0.2.8)\n",
            "Requirement already satisfied: requests-oauthlib>=0.7.0 in /usr/local/lib/python3.7/dist-packages (from google-auth-oauthlib<0.5,>=0.4.1->tensorboard>=2.4.1->-r requirements.txt (line 16)) (1.3.1)\n",
            "Requirement already satisfied: importlib-metadata>=4.4 in /usr/local/lib/python3.7/dist-packages (from markdown>=2.6.8->tensorboard>=2.4.1->-r requirements.txt (line 16)) (4.11.2)\n",
            "Requirement already satisfied: zipp>=0.5 in /usr/local/lib/python3.7/dist-packages (from importlib-metadata>=4.4->markdown>=2.6.8->tensorboard>=2.4.1->-r requirements.txt (line 16)) (3.7.0)\n",
            "Requirement already satisfied: pyasn1<0.5.0,>=0.4.6 in /usr/local/lib/python3.7/dist-packages (from pyasn1-modules>=0.2.1->google-auth<3,>=1.6.3->tensorboard>=2.4.1->-r requirements.txt (line 16)) (0.4.8)\n",
            "Requirement already satisfied: oauthlib>=3.0.0 in /usr/local/lib/python3.7/dist-packages (from requests-oauthlib>=0.7.0->google-auth-oauthlib<0.5,>=0.4.1->tensorboard>=2.4.1->-r requirements.txt (line 16)) (3.2.0)\n",
            "Installing collected packages: thop, PyYAML\n",
            "  Attempting uninstall: PyYAML\n",
            "    Found existing installation: PyYAML 3.13\n",
            "    Uninstalling PyYAML-3.13:\n",
            "      Successfully uninstalled PyYAML-3.13\n",
            "Successfully installed PyYAML-6.0 thop-0.0.31.post2005241907\n"
          ]
        }
      ],
      "source": [
        "! pip install -r requirements.txt"
      ]
    },
    {
      "cell_type": "code",
      "execution_count": null,
      "metadata": {
        "id": "4bdGAr3ul279"
      },
      "outputs": [],
      "source": [
        "# create the yaml file"
      ]
    },
    {
      "cell_type": "code",
      "execution_count": null,
      "metadata": {
        "colab": {
          "base_uri": "https://localhost:8080/",
          "height": 36
        },
        "id": "mSVQeDUh8oxb",
        "outputId": "df065a72-8b2c-40b1-91cb-159ad8b5c5ef"
      },
      "outputs": [
        {
          "data": {
            "application/vnd.google.colaboratory.intrinsic+json": {
              "type": "string"
            },
            "text/plain": [
              "'/content/gdrive/MyDrive/work'"
            ]
          },
          "execution_count": 7,
          "metadata": {},
          "output_type": "execute_result"
        }
      ],
      "source": [
        "os.getcwd()"
      ]
    },
    {
      "cell_type": "code",
      "execution_count": null,
      "metadata": {
        "id": "BXitCrYYmItj"
      },
      "outputs": [],
      "source": [
        "yaml_data='''train: /content/gdrive/MyDrive/work/research/from_gpu/other_misc/gasmi/finalRoad/images/train\n",
        "val: /content/gdrive/MyDrive/work/research/from_gpu/other_misc/gasmi/finalRoad/images/val\n",
        "test: /content/gdrive/MyDrive/work/research/from_gpu/other_misc/gasmi/finalRoad/images/test\n",
        "nc: 9\n",
        "names: ['D00',\n",
        "        'D01',\n",
        "        'D10',\n",
        "        'D11',\n",
        "        'D43',\n",
        "        'D44',        \n",
        "]'''\n",
        "\n",
        "yaml_file = open(\"dataRoad.yaml\", \"w\")\n",
        "n = yaml_file.write(yaml_data)\n",
        "yaml_file.close()"
      ]
    },
    {
      "cell_type": "code",
      "execution_count": null,
      "metadata": {
        "colab": {
          "base_uri": "https://localhost:8080/"
        },
        "id": "SwZZlFJ6mjRV",
        "outputId": "13e8e0cf-8cb3-4d87-80e3-5d77198ff5a9"
      },
      "outputs": [
        {
          "data": {
            "text/plain": [
              "['._RoadDamageDataset',\n",
              " 'data',\n",
              " 'Dataset',\n",
              " 'assortedFiles',\n",
              " 'outputs',\n",
              " 'yolov5',\n",
              " 'finalRoad',\n",
              " '01DataPrep.ipynb',\n",
              " '02_TrainYolo']"
            ]
          },
          "execution_count": 9,
          "metadata": {},
          "output_type": "execute_result"
        }
      ],
      "source": [
        "os.listdir(\"..\")"
      ]
    },
    {
      "cell_type": "code",
      "execution_count": null,
      "metadata": {
        "colab": {
          "base_uri": "https://localhost:8080/"
        },
        "id": "p2VpNQ6cOJv7",
        "outputId": "0692b6f6-c48e-4bea-b2b9-a87385ba91da"
      },
      "outputs": [
        {
          "data": {
            "text/plain": [
              "7242"
            ]
          },
          "execution_count": 13,
          "metadata": {},
          "output_type": "execute_result"
        }
      ],
      "source": [
        "len(os.listdir(\"/content/gdrive/MyDrive/work"))"
      ]
    },
    {
      "cell_type": "markdown",
      "metadata": {
        "id": "FdBrpUwKm2kz"
      },
      "source": [
        "### Train according to the YAML file"
      ]
    },
    {
      "cell_type": "code",
      "execution_count": null,
      "metadata": {
        "colab": {
          "background_save": true,
          "base_uri": "https://localhost:8080/"
        },
        "id": "TiytDVSsmpnc",
        "outputId": "069edff4-c0e9-43fc-cd76-d8f74fe33e0e"
      },
      "outputs": [
        {
          "name": "stdout",
          "output_type": "stream",
          "text": [
            "Downloading https://ultralytics.com/assets/Arial.ttf to /root/.config/Ultralytics/Arial.ttf...\n",
            "\u001b[34m\u001b[1mtrain: \u001b[0mweights=yolov5s.pt, cfg=yolov5s.yaml, data=dataRoad.yaml, hyp=data/hyps/hyp.scratch-low.yaml, epochs=10, batch_size=32, imgsz=640, rect=False, resume=False, nosave=False, noval=False, noautoanchor=False, evolve=None, bucket=, cache=None, image_weights=False, device=, multi_scale=False, single_cls=False, optimizer=SGD, sync_bn=False, workers=8, project=runs/train, name=RoadTrainModel, exist_ok=False, quad=False, cos_lr=False, label_smoothing=0.0, patience=100, freeze=[0], save_period=-1, local_rank=-1, entity=None, upload_dataset=False, bbox_interval=-1, artifact_alias=latest\n",
            "Command 'git fetch && git config --get remote.origin.url' timed out after 5 seconds\n",
            "YOLOv5 🚀 v6.1-35-g932dc78 torch 1.10.0+cu111 CPU\n",
            "\n",
            "remote: Enumerating objects: 5, done.\u001b[K\n",
            "remote: Counting objects: 100% (5/5), done.\u001b[K\n",
            "remote: Total 5 (delta 4), reused 4 (delta 4), pack-reused 0\u001b[K\n",
            "\u001b[34m\u001b[1mhyperparameters: \u001b[0mlr0=0.01, lrf=0.01, momentum=0.937, weight_decay=0.0005, warmup_epochs=3.0, warmup_momentum=0.8, warmup_bias_lr=0.1, box=0.05, cls=0.5, cls_pw=1.0, obj=1.0, obj_pw=1.0, iou_t=0.2, anchor_t=4.0, fl_gamma=0.0, hsv_h=0.015, hsv_s=0.7, hsv_v=0.4, degrees=0.0, translate=0.1, scale=0.5, shear=0.0, perspective=0.0, flipud=0.0, fliplr=0.5, mosaic=1.0, mixup=0.0, copy_paste=0.0\n",
            "Unpacking objects: 100% (5/5), done.\n",
            "\u001b[34m\u001b[1mWeights & Biases: \u001b[0mrun 'pip install wandb' to automatically track and visualize YOLOv5 🚀 runs (RECOMMENDED)\n",
            "\u001b[34m\u001b[1mTensorBoard: \u001b[0mStart with 'tensorboard --logdir runs/train', view at http://localhost:6006/\n",
            "From https://github.com/ultralytics/yolov5\n",
            "   932dc78..c09fb2a  master     -> origin/master\n",
            "Overriding model.yaml nc=80 with nc=9\n",
            "\n",
            "                 from  n    params  module                                  arguments                     \n",
            "  0                -1  1      3520  models.common.Conv                      [3, 32, 6, 2, 2]              \n",
            "  1                -1  1     18560  models.common.Conv                      [32, 64, 3, 2]                \n",
            "  2                -1  1     18816  models.common.C3                        [64, 64, 1]                   \n",
            "  3                -1  1     73984  models.common.Conv                      [64, 128, 3, 2]               \n",
            "  4                -1  2    115712  models.common.C3                        [128, 128, 2]                 \n",
            "  5                -1  1    295424  models.common.Conv                      [128, 256, 3, 2]              \n",
            "  6                -1  3    625152  models.common.C3                        [256, 256, 3]                 \n",
            "  7                -1  1   1180672  models.common.Conv                      [256, 512, 3, 2]              \n",
            "  8                -1  1   1182720  models.common.C3                        [512, 512, 1]                 \n",
            "  9                -1  1    656896  models.common.SPPF                      [512, 512, 5]                 \n",
            " 10                -1  1    131584  models.common.Conv                      [512, 256, 1, 1]              \n",
            " 11                -1  1         0  torch.nn.modules.upsampling.Upsample    [None, 2, 'nearest']          \n",
            " 12           [-1, 6]  1         0  models.common.Concat                    [1]                           \n",
            " 13                -1  1    361984  models.common.C3                        [512, 256, 1, False]          \n",
            " 14                -1  1     33024  models.common.Conv                      [256, 128, 1, 1]              \n",
            " 15                -1  1         0  torch.nn.modules.upsampling.Upsample    [None, 2, 'nearest']          \n",
            " 16           [-1, 4]  1         0  models.common.Concat                    [1]                           \n",
            " 17                -1  1     90880  models.common.C3                        [256, 128, 1, False]          \n",
            " 18                -1  1    147712  models.common.Conv                      [128, 128, 3, 2]              \n",
            " 19          [-1, 14]  1         0  models.common.Concat                    [1]                           \n",
            " 20                -1  1    296448  models.common.C3                        [256, 256, 1, False]          \n",
            " 21                -1  1    590336  models.common.Conv                      [256, 256, 3, 2]              \n",
            " 22          [-1, 10]  1         0  models.common.Concat                    [1]                           \n",
            " 23                -1  1   1182720  models.common.C3                        [512, 512, 1, False]          \n",
            " 24      [17, 20, 23]  1     37758  models.yolo.Detect                      [9, [[10, 13, 16, 30, 33, 23], [30, 61, 62, 45, 59, 119], [116, 90, 156, 198, 373, 326]], [128, 256, 512]]\n",
            "Model Summary: 270 layers, 7043902 parameters, 7043902 gradients, 15.9 GFLOPs\n",
            "\n",
            "Transferred 342/349 items from yolov5s.pt\n",
            "Scaled weight_decay = 0.0005\n",
            "\u001b[34m\u001b[1moptimizer:\u001b[0m SGD with parameter groups 57 weight (no decay), 60 weight, 60 bias\n",
            "\u001b[34m\u001b[1malbumentations: \u001b[0mversion 1.0.3 required by YOLOv5, but version 0.1.12 is currently installed\n",
            "\u001b[34m\u001b[1mtrain: \u001b[0mScanning '/content/gdrive/MyDrive/work/research/from_gpu/other_misc/gasmi/finalRoad/labels/train' images and labels...7242 found, 0 missing, 1 empty, 0 corrupt: 100% 7242/7242 [1:25:22<00:00,  1.41it/s]\n",
            "\u001b[34m\u001b[1mtrain: \u001b[0mNew cache created: /content/gdrive/MyDrive/work/research/from_gpu/other_misc/gasmi/finalRoad/labels/train.cache\n",
            "\u001b[34m\u001b[1mval: \u001b[0mScanning '/content/gdrive/MyDrive/work/research/from_gpu/other_misc/gasmi/finalRoad/labels/val' images and labels...602 found, 0 missing, 0 empty, 303 corrupt: 100% 905/905 [07:05<00:00,  2.13it/s] \n",
            "\u001b[34m\u001b[1mval: \u001b[0mWARNING: /content/gdrive/MyDrive/work/research/from_gpu/other_misc/gasmi/finalRoad/images/val/Numazu_20170906084617.jpg: ignoring corrupt image/label: [Errno 2] No such file or directory: '/content/gdrive/MyDrive/work/research/from_gpu/other_misc/gasmi/finalRoad/images/val/Numazu_20170906084617.jpg'\n",
            "\u001b[34m\u001b[1mval: \u001b[0mWARNING: /content/gdrive/MyDrive/work/research/from_gpu/other_misc/gasmi/finalRoad/images/val/Numazu_20170906084730.jpg: ignoring corrupt image/label: [Errno 2] No such file or directory: '/content/gdrive/MyDrive/work/research/from_gpu/other_misc/gasmi/finalRoad/images/val/Numazu_20170906084730.jpg'\n",
            "\u001b[34m\u001b[1mval: \u001b[0mWARNING: /content/gdrive/MyDrive/work/research/from_gpu/other_misc/gasmi/finalRoad/images/val/Numazu_20170906085433.jpg: ignoring corrupt image/label: [Errno 2] No such file or directory: '/content/gdrive/MyDrive/work/research/from_gpu/other_misc/gasmi/finalRoad/images/val/Numazu_20170906085433.jpg'\n",
            "\u001b[34m\u001b[1mval: \u001b[0mWARNING: /content/gdrive/MyDrive/work/research/from_gpu/other_misc/gasmi/finalRoad/images/val/Numazu_20170906085513.jpg: ignoring corrupt image/label: [Errno 2] No such file or directory: '/content/gdrive/MyDrive/work/research/from_gpu/other_misc/gasmi/finalRoad/images/val/Numazu_20170906085513.jpg'\n",
            "\u001b[34m\u001b[1mval: \u001b[0mWARNING: /content/gdrive/MyDrive/work/research/from_gpu/other_misc/gasmi/finalRoad/images/val/Numazu_20170906085541.jpg: ignoring corrupt image/label: [Errno 2] No such file or directory: '/content/gdrive/MyDrive/work/research/from_gpu/other_misc/gasmi/finalRoad/images/val/Numazu_20170906085541.jpg'\n",
            "\u001b[34m\u001b[1mval: \u001b[0mWARNING: /content/gdrive/MyDrive/work/research/from_gpu/other_misc/gasmi/finalRoad/images/val/Numazu_20170906085642.jpg: ignoring corrupt image/label: [Errno 2] No such file or directory: '/content/gdrive/MyDrive/work/research/from_gpu/other_misc/gasmi/finalRoad/images/val/Numazu_20170906085642.jpg'\n",
            "\u001b[34m\u001b[1mval: \u001b[0mWARNING: /content/gdrive/MyDrive/work/research/from_gpu/other_misc/gasmi/finalRoad/images/val/Numazu_20170906090118.jpg: ignoring corrupt image/label: [Errno 2] No such file or directory: '/content/gdrive/MyDrive/work/research/from_gpu/other_misc/gasmi/finalRoad/images/val/Numazu_20170906090118.jpg'\n",
            "\u001b[34m\u001b[1mval: \u001b[0mWARNING: /content/gdrive/MyDrive/work/research/from_gpu/other_misc/gasmi/finalRoad/images/val/Numazu_20170906090335.jpg: ignoring corrupt image/label: [Errno 2] No such file or directory: '/content/gdrive/MyDrive/work/research/from_gpu/other_misc/gasmi/finalRoad/images/val/Numazu_20170906090335.jpg'\n",
            "\u001b[34m\u001b[1mval: \u001b[0mWARNING: /content/gdrive/MyDrive/work/research/from_gpu/other_misc/gasmi/finalRoad/images/val/Numazu_20170906090443.jpg: ignoring corrupt image/label: [Errno 2] No such file or directory: '/content/gdrive/MyDrive/work/research/from_gpu/other_misc/gasmi/finalRoad/images/val/Numazu_20170906090443.jpg'\n",
            "\u001b[34m\u001b[1mval: \u001b[0mWARNING: /content/gdrive/MyDrive/work/research/from_gpu/other_misc/gasmi/finalRoad/images/val/Numazu_20170906091131.jpg: ignoring corrupt image/label: [Errno 2] No such file or directory: '/content/gdrive/MyDrive/work/research/from_gpu/other_misc/gasmi/finalRoad/images/val/Numazu_20170906091131.jpg'\n",
            "\u001b[34m\u001b[1mval: \u001b[0mWARNING: /content/gdrive/MyDrive/work/research/from_gpu/other_misc/gasmi/finalRoad/images/val/Numazu_20170906093024.jpg: ignoring corrupt image/label: [Errno 2] No such file or directory: '/content/gdrive/MyDrive/work/research/from_gpu/other_misc/gasmi/finalRoad/images/val/Numazu_20170906093024.jpg'\n",
            "\u001b[34m\u001b[1mval: \u001b[0mWARNING: /content/gdrive/MyDrive/work/research/from_gpu/other_misc/gasmi/finalRoad/images/val/Numazu_20170906093027.jpg: ignoring corrupt image/label: [Errno 2] No such file or directory: '/content/gdrive/MyDrive/work/research/from_gpu/other_misc/gasmi/finalRoad/images/val/Numazu_20170906093027.jpg'\n",
            "\u001b[34m\u001b[1mval: \u001b[0mWARNING: /content/gdrive/MyDrive/work/research/from_gpu/other_misc/gasmi/finalRoad/images/val/Numazu_20170906094250.jpg: ignoring corrupt image/label: [Errno 2] No such file or directory: '/content/gdrive/MyDrive/work/research/from_gpu/other_misc/gasmi/finalRoad/images/val/Numazu_20170906094250.jpg'\n",
            "\u001b[34m\u001b[1mval: \u001b[0mWARNING: /content/gdrive/MyDrive/work/research/from_gpu/other_misc/gasmi/finalRoad/images/val/Numazu_20170906094412.jpg: ignoring corrupt image/label: [Errno 2] No such file or directory: '/content/gdrive/MyDrive/work/research/from_gpu/other_misc/gasmi/finalRoad/images/val/Numazu_20170906094412.jpg'\n",
            "\u001b[34m\u001b[1mval: \u001b[0mWARNING: /content/gdrive/MyDrive/work/research/from_gpu/other_misc/gasmi/finalRoad/images/val/Numazu_20170906094416.jpg: ignoring corrupt image/label: [Errno 2] No such file or directory: '/content/gdrive/MyDrive/work/research/from_gpu/other_misc/gasmi/finalRoad/images/val/Numazu_20170906094416.jpg'\n",
            "\u001b[34m\u001b[1mval: \u001b[0mWARNING: /content/gdrive/MyDrive/work/research/from_gpu/other_misc/gasmi/finalRoad/images/val/Numazu_20170906094459.jpg: ignoring corrupt image/label: [Errno 2] No such file or directory: '/content/gdrive/MyDrive/work/research/from_gpu/other_misc/gasmi/finalRoad/images/val/Numazu_20170906094459.jpg'\n",
            "\u001b[34m\u001b[1mval: \u001b[0mWARNING: /content/gdrive/MyDrive/work/research/from_gpu/other_misc/gasmi/finalRoad/images/val/Numazu_20170906094740.jpg: ignoring corrupt image/label: [Errno 2] No such file or directory: '/content/gdrive/MyDrive/work/research/from_gpu/other_misc/gasmi/finalRoad/images/val/Numazu_20170906094740.jpg'\n",
            "\u001b[34m\u001b[1mval: \u001b[0mWARNING: /content/gdrive/MyDrive/work/research/from_gpu/other_misc/gasmi/finalRoad/images/val/Numazu_20170906094944.jpg: ignoring corrupt image/label: [Errno 2] No such file or directory: '/content/gdrive/MyDrive/work/research/from_gpu/other_misc/gasmi/finalRoad/images/val/Numazu_20170906094944.jpg'\n",
            "\u001b[34m\u001b[1mval: \u001b[0mWARNING: /content/gdrive/MyDrive/work/research/from_gpu/other_misc/gasmi/finalRoad/images/val/Numazu_20170906094950.jpg: ignoring corrupt image/label: [Errno 2] No such file or directory: '/content/gdrive/MyDrive/work/research/from_gpu/other_misc/gasmi/finalRoad/images/val/Numazu_20170906094950.jpg'\n",
            "\u001b[34m\u001b[1mval: \u001b[0mWARNING: /content/gdrive/MyDrive/work/research/from_gpu/other_misc/gasmi/finalRoad/images/val/Numazu_20170906095138.jpg: ignoring corrupt image/label: [Errno 2] No such file or directory: '/content/gdrive/MyDrive/work/research/from_gpu/other_misc/gasmi/finalRoad/images/val/Numazu_20170906095138.jpg'\n",
            "\u001b[34m\u001b[1mval: \u001b[0mWARNING: /content/gdrive/MyDrive/work/research/from_gpu/other_misc/gasmi/finalRoad/images/val/Numazu_20170906095947.jpg: ignoring corrupt image/label: [Errno 2] No such file or directory: '/content/gdrive/MyDrive/work/research/from_gpu/other_misc/gasmi/finalRoad/images/val/Numazu_20170906095947.jpg'\n",
            "\u001b[34m\u001b[1mval: \u001b[0mWARNING: /content/gdrive/MyDrive/work/research/from_gpu/other_misc/gasmi/finalRoad/images/val/Numazu_20170906100221.jpg: ignoring corrupt image/label: [Errno 2] No such file or directory: '/content/gdrive/MyDrive/work/research/from_gpu/other_misc/gasmi/finalRoad/images/val/Numazu_20170906100221.jpg'\n",
            "\u001b[34m\u001b[1mval: \u001b[0mWARNING: /content/gdrive/MyDrive/work/research/from_gpu/other_misc/gasmi/finalRoad/images/val/Numazu_20170906100344.jpg: ignoring corrupt image/label: [Errno 2] No such file or directory: '/content/gdrive/MyDrive/work/research/from_gpu/other_misc/gasmi/finalRoad/images/val/Numazu_20170906100344.jpg'\n",
            "\u001b[34m\u001b[1mval: \u001b[0mWARNING: /content/gdrive/MyDrive/work/research/from_gpu/other_misc/gasmi/finalRoad/images/val/Numazu_20170906100406.jpg: ignoring corrupt image/label: [Errno 2] No such file or directory: '/content/gdrive/MyDrive/work/research/from_gpu/other_misc/gasmi/finalRoad/images/val/Numazu_20170906100406.jpg'\n",
            "\u001b[34m\u001b[1mval: \u001b[0mWARNING: /content/gdrive/MyDrive/work/research/from_gpu/other_misc/gasmi/finalRoad/images/val/Numazu_20170906100414.jpg: ignoring corrupt image/label: [Errno 2] No such file or directory: '/content/gdrive/MyDrive/work/research/from_gpu/other_misc/gasmi/finalRoad/images/val/Numazu_20170906100414.jpg'\n",
            "\u001b[34m\u001b[1mval: \u001b[0mWARNING: /content/gdrive/MyDrive/work/research/from_gpu/other_misc/gasmi/finalRoad/images/val/Numazu_20170906100858.jpg: ignoring corrupt image/label: [Errno 2] No such file or directory: '/content/gdrive/MyDrive/work/research/from_gpu/other_misc/gasmi/finalRoad/images/val/Numazu_20170906100858.jpg'\n",
            "\u001b[34m\u001b[1mval: \u001b[0mWARNING: /content/gdrive/MyDrive/work/research/from_gpu/other_misc/gasmi/finalRoad/images/val/Numazu_20170906101047.jpg: ignoring corrupt image/label: [Errno 2] No such file or directory: '/content/gdrive/MyDrive/work/research/from_gpu/other_misc/gasmi/finalRoad/images/val/Numazu_20170906101047.jpg'\n",
            "\u001b[34m\u001b[1mval: \u001b[0mWARNING: /content/gdrive/MyDrive/work/research/from_gpu/other_misc/gasmi/finalRoad/images/val/Numazu_20170906101910.jpg: ignoring corrupt image/label: [Errno 2] No such file or directory: '/content/gdrive/MyDrive/work/research/from_gpu/other_misc/gasmi/finalRoad/images/val/Numazu_20170906101910.jpg'\n",
            "\u001b[34m\u001b[1mval: \u001b[0mWARNING: /content/gdrive/MyDrive/work/research/from_gpu/other_misc/gasmi/finalRoad/images/val/Numazu_20170906102133.jpg: ignoring corrupt image/label: [Errno 2] No such file or directory: '/content/gdrive/MyDrive/work/research/from_gpu/other_misc/gasmi/finalRoad/images/val/Numazu_20170906102133.jpg'\n",
            "\u001b[34m\u001b[1mval: \u001b[0mWARNING: /content/gdrive/MyDrive/work/research/from_gpu/other_misc/gasmi/finalRoad/images/val/Numazu_20170906103032.jpg: ignoring corrupt image/label: [Errno 2] No such file or directory: '/content/gdrive/MyDrive/work/research/from_gpu/other_misc/gasmi/finalRoad/images/val/Numazu_20170906103032.jpg'\n",
            "\u001b[34m\u001b[1mval: \u001b[0mWARNING: /content/gdrive/MyDrive/work/research/from_gpu/other_misc/gasmi/finalRoad/images/val/Numazu_20170906104117.jpg: ignoring corrupt image/label: [Errno 2] No such file or directory: '/content/gdrive/MyDrive/work/research/from_gpu/other_misc/gasmi/finalRoad/images/val/Numazu_20170906104117.jpg'\n",
            "\u001b[34m\u001b[1mval: \u001b[0mWARNING: /content/gdrive/MyDrive/work/research/from_gpu/other_misc/gasmi/finalRoad/images/val/Numazu_20170906104718.jpg: ignoring corrupt image/label: [Errno 2] No such file or directory: '/content/gdrive/MyDrive/work/research/from_gpu/other_misc/gasmi/finalRoad/images/val/Numazu_20170906104718.jpg'\n",
            "\u001b[34m\u001b[1mval: \u001b[0mWARNING: /content/gdrive/MyDrive/work/research/from_gpu/other_misc/gasmi/finalRoad/images/val/Numazu_20170906104803.jpg: ignoring corrupt image/label: [Errno 2] No such file or directory: '/content/gdrive/MyDrive/work/research/from_gpu/other_misc/gasmi/finalRoad/images/val/Numazu_20170906104803.jpg'\n",
            "\u001b[34m\u001b[1mval: \u001b[0mWARNING: /content/gdrive/MyDrive/work/research/from_gpu/other_misc/gasmi/finalRoad/images/val/Numazu_20170906105051.jpg: ignoring corrupt image/label: [Errno 2] No such file or directory: '/content/gdrive/MyDrive/work/research/from_gpu/other_misc/gasmi/finalRoad/images/val/Numazu_20170906105051.jpg'\n",
            "\u001b[34m\u001b[1mval: \u001b[0mWARNING: /content/gdrive/MyDrive/work/research/from_gpu/other_misc/gasmi/finalRoad/images/val/Numazu_20170906105127.jpg: ignoring corrupt image/label: [Errno 2] No such file or directory: '/content/gdrive/MyDrive/work/research/from_gpu/other_misc/gasmi/finalRoad/images/val/Numazu_20170906105127.jpg'\n",
            "\u001b[34m\u001b[1mval: \u001b[0mWARNING: /content/gdrive/MyDrive/work/research/from_gpu/other_misc/gasmi/finalRoad/images/val/Numazu_20170906105321.jpg: ignoring corrupt image/label: [Errno 2] No such file or directory: '/content/gdrive/MyDrive/work/research/from_gpu/other_misc/gasmi/finalRoad/images/val/Numazu_20170906105321.jpg'\n",
            "\u001b[34m\u001b[1mval: \u001b[0mWARNING: /content/gdrive/MyDrive/work/research/from_gpu/other_misc/gasmi/finalRoad/images/val/Numazu_20170906105343.jpg: ignoring corrupt image/label: [Errno 2] No such file or directory: '/content/gdrive/MyDrive/work/research/from_gpu/other_misc/gasmi/finalRoad/images/val/Numazu_20170906105343.jpg'\n",
            "\u001b[34m\u001b[1mval: \u001b[0mWARNING: /content/gdrive/MyDrive/work/research/from_gpu/other_misc/gasmi/finalRoad/images/val/Numazu_20170906105428.jpg: ignoring corrupt image/label: [Errno 2] No such file or directory: '/content/gdrive/MyDrive/work/research/from_gpu/other_misc/gasmi/finalRoad/images/val/Numazu_20170906105428.jpg'\n",
            "\u001b[34m\u001b[1mval: \u001b[0mWARNING: /content/gdrive/MyDrive/work/research/from_gpu/other_misc/gasmi/finalRoad/images/val/Numazu_20170906105601.jpg: ignoring corrupt image/label: [Errno 2] No such file or directory: '/content/gdrive/MyDrive/work/research/from_gpu/other_misc/gasmi/finalRoad/images/val/Numazu_20170906105601.jpg'\n",
            "\u001b[34m\u001b[1mval: \u001b[0mWARNING: /content/gdrive/MyDrive/work/research/from_gpu/other_misc/gasmi/finalRoad/images/val/Numazu_20170906105610.jpg: ignoring corrupt image/label: [Errno 2] No such file or directory: '/content/gdrive/MyDrive/work/research/from_gpu/other_misc/gasmi/finalRoad/images/val/Numazu_20170906105610.jpg'\n",
            "\u001b[34m\u001b[1mval: \u001b[0mWARNING: /content/gdrive/MyDrive/work/research/from_gpu/other_misc/gasmi/finalRoad/images/val/Numazu_20170906105624.jpg: ignoring corrupt image/label: [Errno 2] No such file or directory: '/content/gdrive/MyDrive/work/research/from_gpu/other_misc/gasmi/finalRoad/images/val/Numazu_20170906105624.jpg'\n",
            "\u001b[34m\u001b[1mval: \u001b[0mWARNING: /content/gdrive/MyDrive/work/research/from_gpu/other_misc/gasmi/finalRoad/images/val/Numazu_20170906105628.jpg: ignoring corrupt image/label: [Errno 2] No such file or directory: '/content/gdrive/MyDrive/work/research/from_gpu/other_misc/gasmi/finalRoad/images/val/Numazu_20170906105628.jpg'\n",
            "\u001b[34m\u001b[1mval: \u001b[0mWARNING: /content/gdrive/MyDrive/work/research/from_gpu/other_misc/gasmi/finalRoad/images/val/Numazu_20170906105744.jpg: ignoring corrupt image/label: [Errno 2] No such file or directory: '/content/gdrive/MyDrive/work/research/from_gpu/other_misc/gasmi/finalRoad/images/val/Numazu_20170906105744.jpg'\n",
            "\u001b[34m\u001b[1mval: \u001b[0mWARNING: /content/gdrive/MyDrive/work/research/from_gpu/other_misc/gasmi/finalRoad/images/val/Numazu_20170906110202.jpg: ignoring corrupt image/label: [Errno 2] No such file or directory: '/content/gdrive/MyDrive/work/research/from_gpu/other_misc/gasmi/finalRoad/images/val/Numazu_20170906110202.jpg'\n",
            "\u001b[34m\u001b[1mval: \u001b[0mWARNING: /content/gdrive/MyDrive/work/research/from_gpu/other_misc/gasmi/finalRoad/images/val/Numazu_20170906130306.jpg: ignoring corrupt image/label: [Errno 2] No such file or directory: '/content/gdrive/MyDrive/work/research/from_gpu/other_misc/gasmi/finalRoad/images/val/Numazu_20170906130306.jpg'\n",
            "\u001b[34m\u001b[1mval: \u001b[0mWARNING: /content/gdrive/MyDrive/work/research/from_gpu/other_misc/gasmi/finalRoad/images/val/Numazu_20170906130451.jpg: ignoring corrupt image/label: [Errno 2] No such file or directory: '/content/gdrive/MyDrive/work/research/from_gpu/other_misc/gasmi/finalRoad/images/val/Numazu_20170906130451.jpg'\n",
            "\u001b[34m\u001b[1mval: \u001b[0mWARNING: /content/gdrive/MyDrive/work/research/from_gpu/other_misc/gasmi/finalRoad/images/val/Numazu_20170906130621.jpg: ignoring corrupt image/label: [Errno 2] No such file or directory: '/content/gdrive/MyDrive/work/research/from_gpu/other_misc/gasmi/finalRoad/images/val/Numazu_20170906130621.jpg'\n",
            "\u001b[34m\u001b[1mval: \u001b[0mWARNING: /content/gdrive/MyDrive/work/research/from_gpu/other_misc/gasmi/finalRoad/images/val/Numazu_20170906131347.jpg: ignoring corrupt image/label: [Errno 2] No such file or directory: '/content/gdrive/MyDrive/work/research/from_gpu/other_misc/gasmi/finalRoad/images/val/Numazu_20170906131347.jpg'\n",
            "\u001b[34m\u001b[1mval: \u001b[0mWARNING: /content/gdrive/MyDrive/work/research/from_gpu/other_misc/gasmi/finalRoad/images/val/Numazu_20170906131520.jpg: ignoring corrupt image/label: [Errno 2] No such file or directory: '/content/gdrive/MyDrive/work/research/from_gpu/other_misc/gasmi/finalRoad/images/val/Numazu_20170906131520.jpg'\n",
            "\u001b[34m\u001b[1mval: \u001b[0mWARNING: /content/gdrive/MyDrive/work/research/from_gpu/other_misc/gasmi/finalRoad/images/val/Numazu_20170906131827.jpg: ignoring corrupt image/label: [Errno 2] No such file or directory: '/content/gdrive/MyDrive/work/research/from_gpu/other_misc/gasmi/finalRoad/images/val/Numazu_20170906131827.jpg'\n",
            "\u001b[34m\u001b[1mval: \u001b[0mWARNING: /content/gdrive/MyDrive/work/research/from_gpu/other_misc/gasmi/finalRoad/images/val/Numazu_20170906132219.jpg: ignoring corrupt image/label: [Errno 2] No such file or directory: '/content/gdrive/MyDrive/work/research/from_gpu/other_misc/gasmi/finalRoad/images/val/Numazu_20170906132219.jpg'\n",
            "\u001b[34m\u001b[1mval: \u001b[0mWARNING: /content/gdrive/MyDrive/work/research/from_gpu/other_misc/gasmi/finalRoad/images/val/Numazu_20170906132808.jpg: ignoring corrupt image/label: [Errno 2] No such file or directory: '/content/gdrive/MyDrive/work/research/from_gpu/other_misc/gasmi/finalRoad/images/val/Numazu_20170906132808.jpg'\n",
            "\u001b[34m\u001b[1mval: \u001b[0mWARNING: /content/gdrive/MyDrive/work/research/from_gpu/other_misc/gasmi/finalRoad/images/val/Numazu_20170906132848.jpg: ignoring corrupt image/label: [Errno 2] No such file or directory: '/content/gdrive/MyDrive/work/research/from_gpu/other_misc/gasmi/finalRoad/images/val/Numazu_20170906132848.jpg'\n",
            "\u001b[34m\u001b[1mval: \u001b[0mWARNING: /content/gdrive/MyDrive/work/research/from_gpu/other_misc/gasmi/finalRoad/images/val/Numazu_20170906133140.jpg: ignoring corrupt image/label: [Errno 2] No such file or directory: '/content/gdrive/MyDrive/work/research/from_gpu/other_misc/gasmi/finalRoad/images/val/Numazu_20170906133140.jpg'\n",
            "\u001b[34m\u001b[1mval: \u001b[0mWARNING: /content/gdrive/MyDrive/work/research/from_gpu/other_misc/gasmi/finalRoad/images/val/Numazu_20170906133613.jpg: ignoring corrupt image/label: [Errno 2] No such file or directory: '/content/gdrive/MyDrive/work/research/from_gpu/other_misc/gasmi/finalRoad/images/val/Numazu_20170906133613.jpg'\n",
            "\u001b[34m\u001b[1mval: \u001b[0mWARNING: /content/gdrive/MyDrive/work/research/from_gpu/other_misc/gasmi/finalRoad/images/val/Numazu_20170906134443.jpg: ignoring corrupt image/label: [Errno 2] No such file or directory: '/content/gdrive/MyDrive/work/research/from_gpu/other_misc/gasmi/finalRoad/images/val/Numazu_20170906134443.jpg'\n",
            "\u001b[34m\u001b[1mval: \u001b[0mWARNING: /content/gdrive/MyDrive/work/research/from_gpu/other_misc/gasmi/finalRoad/images/val/Numazu_20170906134818.jpg: ignoring corrupt image/label: [Errno 2] No such file or directory: '/content/gdrive/MyDrive/work/research/from_gpu/other_misc/gasmi/finalRoad/images/val/Numazu_20170906134818.jpg'\n",
            "\u001b[34m\u001b[1mval: \u001b[0mWARNING: /content/gdrive/MyDrive/work/research/from_gpu/other_misc/gasmi/finalRoad/images/val/Numazu_20170906134945.jpg: ignoring corrupt image/label: [Errno 2] No such file or directory: '/content/gdrive/MyDrive/work/research/from_gpu/other_misc/gasmi/finalRoad/images/val/Numazu_20170906134945.jpg'\n",
            "\u001b[34m\u001b[1mval: \u001b[0mWARNING: /content/gdrive/MyDrive/work/research/from_gpu/other_misc/gasmi/finalRoad/images/val/Numazu_20170906135242.jpg: ignoring corrupt image/label: [Errno 2] No such file or directory: '/content/gdrive/MyDrive/work/research/from_gpu/other_misc/gasmi/finalRoad/images/val/Numazu_20170906135242.jpg'\n",
            "\u001b[34m\u001b[1mval: \u001b[0mWARNING: /content/gdrive/MyDrive/work/research/from_gpu/other_misc/gasmi/finalRoad/images/val/Numazu_20170906135302.jpg: ignoring corrupt image/label: [Errno 2] No such file or directory: '/content/gdrive/MyDrive/work/research/from_gpu/other_misc/gasmi/finalRoad/images/val/Numazu_20170906135302.jpg'\n",
            "\u001b[34m\u001b[1mval: \u001b[0mWARNING: /content/gdrive/MyDrive/work/research/from_gpu/other_misc/gasmi/finalRoad/images/val/Numazu_20170906135432.jpg: ignoring corrupt image/label: [Errno 2] No such file or directory: '/content/gdrive/MyDrive/work/research/from_gpu/other_misc/gasmi/finalRoad/images/val/Numazu_20170906135432.jpg'\n",
            "\u001b[34m\u001b[1mval: \u001b[0mWARNING: /content/gdrive/MyDrive/work/research/from_gpu/other_misc/gasmi/finalRoad/images/val/Numazu_20170906135619.jpg: ignoring corrupt image/label: [Errno 2] No such file or directory: '/content/gdrive/MyDrive/work/research/from_gpu/other_misc/gasmi/finalRoad/images/val/Numazu_20170906135619.jpg'\n",
            "\u001b[34m\u001b[1mval: \u001b[0mWARNING: /content/gdrive/MyDrive/work/research/from_gpu/other_misc/gasmi/finalRoad/images/val/Numazu_20170906140252.jpg: ignoring corrupt image/label: [Errno 2] No such file or directory: '/content/gdrive/MyDrive/work/research/from_gpu/other_misc/gasmi/finalRoad/images/val/Numazu_20170906140252.jpg'\n",
            "\u001b[34m\u001b[1mval: \u001b[0mWARNING: /content/gdrive/MyDrive/work/research/from_gpu/other_misc/gasmi/finalRoad/images/val/Numazu_20170906140301.jpg: ignoring corrupt image/label: [Errno 2] No such file or directory: '/content/gdrive/MyDrive/work/research/from_gpu/other_misc/gasmi/finalRoad/images/val/Numazu_20170906140301.jpg'\n",
            "\u001b[34m\u001b[1mval: \u001b[0mWARNING: /content/gdrive/MyDrive/work/research/from_gpu/other_misc/gasmi/finalRoad/images/val/Numazu_20170906140513.jpg: ignoring corrupt image/label: [Errno 2] No such file or directory: '/content/gdrive/MyDrive/work/research/from_gpu/other_misc/gasmi/finalRoad/images/val/Numazu_20170906140513.jpg'\n",
            "\u001b[34m\u001b[1mval: \u001b[0mWARNING: /content/gdrive/MyDrive/work/research/from_gpu/other_misc/gasmi/finalRoad/images/val/Numazu_20170906140549.jpg: ignoring corrupt image/label: [Errno 2] No such file or directory: '/content/gdrive/MyDrive/work/research/from_gpu/other_misc/gasmi/finalRoad/images/val/Numazu_20170906140549.jpg'\n",
            "\u001b[34m\u001b[1mval: \u001b[0mWARNING: /content/gdrive/MyDrive/work/research/from_gpu/other_misc/gasmi/finalRoad/images/val/Numazu_20170906140658.jpg: ignoring corrupt image/label: [Errno 2] No such file or directory: '/content/gdrive/MyDrive/work/research/from_gpu/other_misc/gasmi/finalRoad/images/val/Numazu_20170906140658.jpg'\n",
            "\u001b[34m\u001b[1mval: \u001b[0mWARNING: /content/gdrive/MyDrive/work/research/from_gpu/other_misc/gasmi/finalRoad/images/val/Numazu_20170906140813.jpg: ignoring corrupt image/label: [Errno 2] No such file or directory: '/content/gdrive/MyDrive/work/research/from_gpu/other_misc/gasmi/finalRoad/images/val/Numazu_20170906140813.jpg'\n",
            "\u001b[34m\u001b[1mval: \u001b[0mWARNING: /content/gdrive/MyDrive/work/research/from_gpu/other_misc/gasmi/finalRoad/images/val/Numazu_20170906140816.jpg: ignoring corrupt image/label: [Errno 2] No such file or directory: '/content/gdrive/MyDrive/work/research/from_gpu/other_misc/gasmi/finalRoad/images/val/Numazu_20170906140816.jpg'\n",
            "\u001b[34m\u001b[1mval: \u001b[0mWARNING: /content/gdrive/MyDrive/work/research/from_gpu/other_misc/gasmi/finalRoad/images/val/Numazu_20170906140821.jpg: ignoring corrupt image/label: [Errno 2] No such file or directory: '/content/gdrive/MyDrive/work/research/from_gpu/other_misc/gasmi/finalRoad/images/val/Numazu_20170906140821.jpg'\n",
            "\u001b[34m\u001b[1mval: \u001b[0mWARNING: /content/gdrive/MyDrive/work/research/from_gpu/other_misc/gasmi/finalRoad/images/val/Numazu_20170906140907.jpg: ignoring corrupt image/label: [Errno 2] No such file or directory: '/content/gdrive/MyDrive/work/research/from_gpu/other_misc/gasmi/finalRoad/images/val/Numazu_20170906140907.jpg'\n",
            "\u001b[34m\u001b[1mval: \u001b[0mWARNING: /content/gdrive/MyDrive/work/research/from_gpu/other_misc/gasmi/finalRoad/images/val/Numazu_20170906141435.jpg: ignoring corrupt image/label: [Errno 2] No such file or directory: '/content/gdrive/MyDrive/work/research/from_gpu/other_misc/gasmi/finalRoad/images/val/Numazu_20170906141435.jpg'\n",
            "\u001b[34m\u001b[1mval: \u001b[0mWARNING: /content/gdrive/MyDrive/work/research/from_gpu/other_misc/gasmi/finalRoad/images/val/Numazu_20170906141506.jpg: ignoring corrupt image/label: [Errno 2] No such file or directory: '/content/gdrive/MyDrive/work/research/from_gpu/other_misc/gasmi/finalRoad/images/val/Numazu_20170906141506.jpg'\n",
            "\u001b[34m\u001b[1mval: \u001b[0mWARNING: /content/gdrive/MyDrive/work/research/from_gpu/other_misc/gasmi/finalRoad/images/val/Numazu_20170906141622.jpg: ignoring corrupt image/label: [Errno 2] No such file or directory: '/content/gdrive/MyDrive/work/research/from_gpu/other_misc/gasmi/finalRoad/images/val/Numazu_20170906141622.jpg'\n",
            "\u001b[34m\u001b[1mval: \u001b[0mWARNING: /content/gdrive/MyDrive/work/research/from_gpu/other_misc/gasmi/finalRoad/images/val/Numazu_20170906141745.jpg: ignoring corrupt image/label: [Errno 2] No such file or directory: '/content/gdrive/MyDrive/work/research/from_gpu/other_misc/gasmi/finalRoad/images/val/Numazu_20170906141745.jpg'\n",
            "\u001b[34m\u001b[1mval: \u001b[0mWARNING: /content/gdrive/MyDrive/work/research/from_gpu/other_misc/gasmi/finalRoad/images/val/Numazu_20170906142106.jpg: ignoring corrupt image/label: [Errno 2] No such file or directory: '/content/gdrive/MyDrive/work/research/from_gpu/other_misc/gasmi/finalRoad/images/val/Numazu_20170906142106.jpg'\n",
            "\u001b[34m\u001b[1mval: \u001b[0mWARNING: /content/gdrive/MyDrive/work/research/from_gpu/other_misc/gasmi/finalRoad/images/val/Numazu_20170906142301.jpg: ignoring corrupt image/label: [Errno 2] No such file or directory: '/content/gdrive/MyDrive/work/research/from_gpu/other_misc/gasmi/finalRoad/images/val/Numazu_20170906142301.jpg'\n",
            "\u001b[34m\u001b[1mval: \u001b[0mWARNING: /content/gdrive/MyDrive/work/research/from_gpu/other_misc/gasmi/finalRoad/images/val/Numazu_20170906142404.jpg: ignoring corrupt image/label: [Errno 2] No such file or directory: '/content/gdrive/MyDrive/work/research/from_gpu/other_misc/gasmi/finalRoad/images/val/Numazu_20170906142404.jpg'\n",
            "\u001b[34m\u001b[1mval: \u001b[0mWARNING: /content/gdrive/MyDrive/work/research/from_gpu/other_misc/gasmi/finalRoad/images/val/Numazu_20170906142406.jpg: ignoring corrupt image/label: [Errno 2] No such file or directory: '/content/gdrive/MyDrive/work/research/from_gpu/other_misc/gasmi/finalRoad/images/val/Numazu_20170906142406.jpg'\n",
            "\u001b[34m\u001b[1mval: \u001b[0mWARNING: /content/gdrive/MyDrive/work/research/from_gpu/other_misc/gasmi/finalRoad/images/val/Numazu_20170906142422.jpg: ignoring corrupt image/label: [Errno 2] No such file or directory: '/content/gdrive/MyDrive/work/research/from_gpu/other_misc/gasmi/finalRoad/images/val/Numazu_20170906142422.jpg'\n",
            "\u001b[34m\u001b[1mval: \u001b[0mWARNING: /content/gdrive/MyDrive/work/research/from_gpu/other_misc/gasmi/finalRoad/images/val/Numazu_20170906142451.jpg: ignoring corrupt image/label: [Errno 2] No such file or directory: '/content/gdrive/MyDrive/work/research/from_gpu/other_misc/gasmi/finalRoad/images/val/Numazu_20170906142451.jpg'\n",
            "\u001b[34m\u001b[1mval: \u001b[0mWARNING: /content/gdrive/MyDrive/work/research/from_gpu/other_misc/gasmi/finalRoad/images/val/Numazu_20170906142534.jpg: ignoring corrupt image/label: [Errno 2] No such file or directory: '/content/gdrive/MyDrive/work/research/from_gpu/other_misc/gasmi/finalRoad/images/val/Numazu_20170906142534.jpg'\n",
            "\u001b[34m\u001b[1mval: \u001b[0mWARNING: /content/gdrive/MyDrive/work/research/from_gpu/other_misc/gasmi/finalRoad/images/val/Numazu_20170906143046.jpg: ignoring corrupt image/label: [Errno 2] No such file or directory: '/content/gdrive/MyDrive/work/research/from_gpu/other_misc/gasmi/finalRoad/images/val/Numazu_20170906143046.jpg'\n",
            "\u001b[34m\u001b[1mval: \u001b[0mWARNING: /content/gdrive/MyDrive/work/research/from_gpu/other_misc/gasmi/finalRoad/images/val/Numazu_20170906143446.jpg: ignoring corrupt image/label: [Errno 2] No such file or directory: '/content/gdrive/MyDrive/work/research/from_gpu/other_misc/gasmi/finalRoad/images/val/Numazu_20170906143446.jpg'\n",
            "\u001b[34m\u001b[1mval: \u001b[0mWARNING: /content/gdrive/MyDrive/work/research/from_gpu/other_misc/gasmi/finalRoad/images/val/Numazu_20170906143548.jpg: ignoring corrupt image/label: [Errno 2] No such file or directory: '/content/gdrive/MyDrive/work/research/from_gpu/other_misc/gasmi/finalRoad/images/val/Numazu_20170906143548.jpg'\n",
            "\u001b[34m\u001b[1mval: \u001b[0mWARNING: /content/gdrive/MyDrive/work/research/from_gpu/other_misc/gasmi/finalRoad/images/val/Numazu_20170906143614.jpg: ignoring corrupt image/label: [Errno 2] No such file or directory: '/content/gdrive/MyDrive/work/research/from_gpu/other_misc/gasmi/finalRoad/images/val/Numazu_20170906143614.jpg'\n",
            "\u001b[34m\u001b[1mval: \u001b[0mWARNING: /content/gdrive/MyDrive/work/research/from_gpu/other_misc/gasmi/finalRoad/images/val/Numazu_20170906143649.jpg: ignoring corrupt image/label: [Errno 2] No such file or directory: '/content/gdrive/MyDrive/work/research/from_gpu/other_misc/gasmi/finalRoad/images/val/Numazu_20170906143649.jpg'\n",
            "\u001b[34m\u001b[1mval: \u001b[0mWARNING: /content/gdrive/MyDrive/work/research/from_gpu/other_misc/gasmi/finalRoad/images/val/Numazu_20170906143932.jpg: ignoring corrupt image/label: [Errno 2] No such file or directory: '/content/gdrive/MyDrive/work/research/from_gpu/other_misc/gasmi/finalRoad/images/val/Numazu_20170906143932.jpg'\n",
            "\u001b[34m\u001b[1mval: \u001b[0mWARNING: /content/gdrive/MyDrive/work/research/from_gpu/other_misc/gasmi/finalRoad/images/val/Numazu_20170906143943.jpg: ignoring corrupt image/label: [Errno 2] No such file or directory: '/content/gdrive/MyDrive/work/research/from_gpu/other_misc/gasmi/finalRoad/images/val/Numazu_20170906143943.jpg'\n",
            "\u001b[34m\u001b[1mval: \u001b[0mWARNING: /content/gdrive/MyDrive/work/research/from_gpu/other_misc/gasmi/finalRoad/images/val/Numazu_20170906144111.jpg: ignoring corrupt image/label: [Errno 2] No such file or directory: '/content/gdrive/MyDrive/work/research/from_gpu/other_misc/gasmi/finalRoad/images/val/Numazu_20170906144111.jpg'\n",
            "\u001b[34m\u001b[1mval: \u001b[0mWARNING: /content/gdrive/MyDrive/work/research/from_gpu/other_misc/gasmi/finalRoad/images/val/Numazu_20170906144152.jpg: ignoring corrupt image/label: [Errno 2] No such file or directory: '/content/gdrive/MyDrive/work/research/from_gpu/other_misc/gasmi/finalRoad/images/val/Numazu_20170906144152.jpg'\n",
            "\u001b[34m\u001b[1mval: \u001b[0mWARNING: /content/gdrive/MyDrive/work/research/from_gpu/other_misc/gasmi/finalRoad/images/val/Numazu_20170906144153.jpg: ignoring corrupt image/label: [Errno 2] No such file or directory: '/content/gdrive/MyDrive/work/research/from_gpu/other_misc/gasmi/finalRoad/images/val/Numazu_20170906144153.jpg'\n",
            "\u001b[34m\u001b[1mval: \u001b[0mWARNING: /content/gdrive/MyDrive/work/research/from_gpu/other_misc/gasmi/finalRoad/images/val/Numazu_20170906144242.jpg: ignoring corrupt image/label: [Errno 2] No such file or directory: '/content/gdrive/MyDrive/work/research/from_gpu/other_misc/gasmi/finalRoad/images/val/Numazu_20170906144242.jpg'\n",
            "\u001b[34m\u001b[1mval: \u001b[0mWARNING: /content/gdrive/MyDrive/work/research/from_gpu/other_misc/gasmi/finalRoad/images/val/Numazu_20170906144308.jpg: ignoring corrupt image/label: [Errno 2] No such file or directory: '/content/gdrive/MyDrive/work/research/from_gpu/other_misc/gasmi/finalRoad/images/val/Numazu_20170906144308.jpg'\n",
            "\u001b[34m\u001b[1mval: \u001b[0mWARNING: /content/gdrive/MyDrive/work/research/from_gpu/other_misc/gasmi/finalRoad/images/val/Numazu_20170906144337.jpg: ignoring corrupt image/label: [Errno 2] No such file or directory: '/content/gdrive/MyDrive/work/research/from_gpu/other_misc/gasmi/finalRoad/images/val/Numazu_20170906144337.jpg'\n",
            "\u001b[34m\u001b[1mval: \u001b[0mWARNING: /content/gdrive/MyDrive/work/research/from_gpu/other_misc/gasmi/finalRoad/images/val/Numazu_20170906145428.jpg: ignoring corrupt image/label: [Errno 2] No such file or directory: '/content/gdrive/MyDrive/work/research/from_gpu/other_misc/gasmi/finalRoad/images/val/Numazu_20170906145428.jpg'\n",
            "\u001b[34m\u001b[1mval: \u001b[0mWARNING: /content/gdrive/MyDrive/work/research/from_gpu/other_misc/gasmi/finalRoad/images/val/Numazu_20170906145543.jpg: ignoring corrupt image/label: [Errno 2] No such file or directory: '/content/gdrive/MyDrive/work/research/from_gpu/other_misc/gasmi/finalRoad/images/val/Numazu_20170906145543.jpg'\n",
            "\u001b[34m\u001b[1mval: \u001b[0mWARNING: /content/gdrive/MyDrive/work/research/from_gpu/other_misc/gasmi/finalRoad/images/val/Numazu_20170906145602.jpg: ignoring corrupt image/label: [Errno 2] No such file or directory: '/content/gdrive/MyDrive/work/research/from_gpu/other_misc/gasmi/finalRoad/images/val/Numazu_20170906145602.jpg'\n",
            "\u001b[34m\u001b[1mval: \u001b[0mWARNING: /content/gdrive/MyDrive/work/research/from_gpu/other_misc/gasmi/finalRoad/images/val/Numazu_20170906145800.jpg: ignoring corrupt image/label: [Errno 2] No such file or directory: '/content/gdrive/MyDrive/work/research/from_gpu/other_misc/gasmi/finalRoad/images/val/Numazu_20170906145800.jpg'\n",
            "\u001b[34m\u001b[1mval: \u001b[0mWARNING: /content/gdrive/MyDrive/work/research/from_gpu/other_misc/gasmi/finalRoad/images/val/Numazu_20170906145818.jpg: ignoring corrupt image/label: [Errno 2] No such file or directory: '/content/gdrive/MyDrive/work/research/from_gpu/other_misc/gasmi/finalRoad/images/val/Numazu_20170906145818.jpg'\n",
            "\u001b[34m\u001b[1mval: \u001b[0mWARNING: /content/gdrive/MyDrive/work/research/from_gpu/other_misc/gasmi/finalRoad/images/val/Numazu_20170906150420.jpg: ignoring corrupt image/label: [Errno 2] No such file or directory: '/content/gdrive/MyDrive/work/research/from_gpu/other_misc/gasmi/finalRoad/images/val/Numazu_20170906150420.jpg'\n",
            "\u001b[34m\u001b[1mval: \u001b[0mWARNING: /content/gdrive/MyDrive/work/research/from_gpu/other_misc/gasmi/finalRoad/images/val/Numazu_20170906150441.jpg: ignoring corrupt image/label: [Errno 2] No such file or directory: '/content/gdrive/MyDrive/work/research/from_gpu/other_misc/gasmi/finalRoad/images/val/Numazu_20170906150441.jpg'\n",
            "\u001b[34m\u001b[1mval: \u001b[0mWARNING: /content/gdrive/MyDrive/work/research/from_gpu/other_misc/gasmi/finalRoad/images/val/Numazu_20170906150502.jpg: ignoring corrupt image/label: [Errno 2] No such file or directory: '/content/gdrive/MyDrive/work/research/from_gpu/other_misc/gasmi/finalRoad/images/val/Numazu_20170906150502.jpg'\n",
            "\u001b[34m\u001b[1mval: \u001b[0mWARNING: /content/gdrive/MyDrive/work/research/from_gpu/other_misc/gasmi/finalRoad/images/val/Numazu_20170906150832.jpg: ignoring corrupt image/label: [Errno 2] No such file or directory: '/content/gdrive/MyDrive/work/research/from_gpu/other_misc/gasmi/finalRoad/images/val/Numazu_20170906150832.jpg'\n",
            "\u001b[34m\u001b[1mval: \u001b[0mWARNING: /content/gdrive/MyDrive/work/research/from_gpu/other_misc/gasmi/finalRoad/images/val/Numazu_20170906150936.jpg: ignoring corrupt image/label: [Errno 2] No such file or directory: '/content/gdrive/MyDrive/work/research/from_gpu/other_misc/gasmi/finalRoad/images/val/Numazu_20170906150936.jpg'\n",
            "\u001b[34m\u001b[1mval: \u001b[0mWARNING: /content/gdrive/MyDrive/work/research/from_gpu/other_misc/gasmi/finalRoad/images/val/Numazu_20170906151136.jpg: ignoring corrupt image/label: [Errno 2] No such file or directory: '/content/gdrive/MyDrive/work/research/from_gpu/other_misc/gasmi/finalRoad/images/val/Numazu_20170906151136.jpg'\n",
            "\u001b[34m\u001b[1mval: \u001b[0mWARNING: /content/gdrive/MyDrive/work/research/from_gpu/other_misc/gasmi/finalRoad/images/val/Numazu_20170906151140.jpg: ignoring corrupt image/label: [Errno 2] No such file or directory: '/content/gdrive/MyDrive/work/research/from_gpu/other_misc/gasmi/finalRoad/images/val/Numazu_20170906151140.jpg'\n",
            "\u001b[34m\u001b[1mval: \u001b[0mWARNING: /content/gdrive/MyDrive/work/research/from_gpu/other_misc/gasmi/finalRoad/images/val/Numazu_20170906151225.jpg: ignoring corrupt image/label: [Errno 2] No such file or directory: '/content/gdrive/MyDrive/work/research/from_gpu/other_misc/gasmi/finalRoad/images/val/Numazu_20170906151225.jpg'\n",
            "\u001b[34m\u001b[1mval: \u001b[0mWARNING: /content/gdrive/MyDrive/work/research/from_gpu/other_misc/gasmi/finalRoad/images/val/Numazu_20170906151321.jpg: ignoring corrupt image/label: [Errno 2] No such file or directory: '/content/gdrive/MyDrive/work/research/from_gpu/other_misc/gasmi/finalRoad/images/val/Numazu_20170906151321.jpg'\n",
            "\u001b[34m\u001b[1mval: \u001b[0mWARNING: /content/gdrive/MyDrive/work/research/from_gpu/other_misc/gasmi/finalRoad/images/val/Numazu_20170906151455.jpg: ignoring corrupt image/label: [Errno 2] No such file or directory: '/content/gdrive/MyDrive/work/research/from_gpu/other_misc/gasmi/finalRoad/images/val/Numazu_20170906151455.jpg'\n",
            "\u001b[34m\u001b[1mval: \u001b[0mWARNING: /content/gdrive/MyDrive/work/research/from_gpu/other_misc/gasmi/finalRoad/images/val/Numazu_20170906151744.jpg: ignoring corrupt image/label: [Errno 2] No such file or directory: '/content/gdrive/MyDrive/work/research/from_gpu/other_misc/gasmi/finalRoad/images/val/Numazu_20170906151744.jpg'\n",
            "\u001b[34m\u001b[1mval: \u001b[0mWARNING: /content/gdrive/MyDrive/work/research/from_gpu/other_misc/gasmi/finalRoad/images/val/Numazu_20170906151755.jpg: ignoring corrupt image/label: [Errno 2] No such file or directory: '/content/gdrive/MyDrive/work/research/from_gpu/other_misc/gasmi/finalRoad/images/val/Numazu_20170906151755.jpg'\n",
            "\u001b[34m\u001b[1mval: \u001b[0mWARNING: /content/gdrive/MyDrive/work/research/from_gpu/other_misc/gasmi/finalRoad/images/val/Numazu_20170906152030.jpg: ignoring corrupt image/label: [Errno 2] No such file or directory: '/content/gdrive/MyDrive/work/research/from_gpu/other_misc/gasmi/finalRoad/images/val/Numazu_20170906152030.jpg'\n",
            "\u001b[34m\u001b[1mval: \u001b[0mWARNING: /content/gdrive/MyDrive/work/research/from_gpu/other_misc/gasmi/finalRoad/images/val/Numazu_20170906152049.jpg: ignoring corrupt image/label: [Errno 2] No such file or directory: '/content/gdrive/MyDrive/work/research/from_gpu/other_misc/gasmi/finalRoad/images/val/Numazu_20170906152049.jpg'\n",
            "\u001b[34m\u001b[1mval: \u001b[0mWARNING: /content/gdrive/MyDrive/work/research/from_gpu/other_misc/gasmi/finalRoad/images/val/Numazu_20170906152122.jpg: ignoring corrupt image/label: [Errno 2] No such file or directory: '/content/gdrive/MyDrive/work/research/from_gpu/other_misc/gasmi/finalRoad/images/val/Numazu_20170906152122.jpg'\n",
            "\u001b[34m\u001b[1mval: \u001b[0mWARNING: /content/gdrive/MyDrive/work/research/from_gpu/other_misc/gasmi/finalRoad/images/val/Numazu_20170906152510.jpg: ignoring corrupt image/label: [Errno 2] No such file or directory: '/content/gdrive/MyDrive/work/research/from_gpu/other_misc/gasmi/finalRoad/images/val/Numazu_20170906152510.jpg'\n",
            "\u001b[34m\u001b[1mval: \u001b[0mWARNING: /content/gdrive/MyDrive/work/research/from_gpu/other_misc/gasmi/finalRoad/images/val/Numazu_20170906152649.jpg: ignoring corrupt image/label: [Errno 2] No such file or directory: '/content/gdrive/MyDrive/work/research/from_gpu/other_misc/gasmi/finalRoad/images/val/Numazu_20170906152649.jpg'\n",
            "\u001b[34m\u001b[1mval: \u001b[0mWARNING: /content/gdrive/MyDrive/work/research/from_gpu/other_misc/gasmi/finalRoad/images/val/Numazu_20170906153003.jpg: ignoring corrupt image/label: [Errno 2] No such file or directory: '/content/gdrive/MyDrive/work/research/from_gpu/other_misc/gasmi/finalRoad/images/val/Numazu_20170906153003.jpg'\n",
            "\u001b[34m\u001b[1mval: \u001b[0mWARNING: /content/gdrive/MyDrive/work/research/from_gpu/other_misc/gasmi/finalRoad/images/val/Numazu_20170906153054.jpg: ignoring corrupt image/label: [Errno 2] No such file or directory: '/content/gdrive/MyDrive/work/research/from_gpu/other_misc/gasmi/finalRoad/images/val/Numazu_20170906153054.jpg'\n",
            "\u001b[34m\u001b[1mval: \u001b[0mWARNING: /content/gdrive/MyDrive/work/research/from_gpu/other_misc/gasmi/finalRoad/images/val/Numazu_20170906153056.jpg: ignoring corrupt image/label: [Errno 2] No such file or directory: '/content/gdrive/MyDrive/work/research/from_gpu/other_misc/gasmi/finalRoad/images/val/Numazu_20170906153056.jpg'\n",
            "\u001b[34m\u001b[1mval: \u001b[0mWARNING: /content/gdrive/MyDrive/work/research/from_gpu/other_misc/gasmi/finalRoad/images/val/Numazu_20170906153627.jpg: ignoring corrupt image/label: [Errno 2] No such file or directory: '/content/gdrive/MyDrive/work/research/from_gpu/other_misc/gasmi/finalRoad/images/val/Numazu_20170906153627.jpg'\n",
            "\u001b[34m\u001b[1mval: \u001b[0mWARNING: /content/gdrive/MyDrive/work/research/from_gpu/other_misc/gasmi/finalRoad/images/val/Numazu_20170906153628.jpg: ignoring corrupt image/label: [Errno 2] No such file or directory: '/content/gdrive/MyDrive/work/research/from_gpu/other_misc/gasmi/finalRoad/images/val/Numazu_20170906153628.jpg'\n",
            "\u001b[34m\u001b[1mval: \u001b[0mWARNING: /content/gdrive/MyDrive/work/research/from_gpu/other_misc/gasmi/finalRoad/images/val/Numazu_20170906153827.jpg: ignoring corrupt image/label: [Errno 2] No such file or directory: '/content/gdrive/MyDrive/work/research/from_gpu/other_misc/gasmi/finalRoad/images/val/Numazu_20170906153827.jpg'\n",
            "\u001b[34m\u001b[1mval: \u001b[0mWARNING: /content/gdrive/MyDrive/work/research/from_gpu/other_misc/gasmi/finalRoad/images/val/Numazu_20170906153834.jpg: ignoring corrupt image/label: [Errno 2] No such file or directory: '/content/gdrive/MyDrive/work/research/from_gpu/other_misc/gasmi/finalRoad/images/val/Numazu_20170906153834.jpg'\n",
            "\u001b[34m\u001b[1mval: \u001b[0mWARNING: /content/gdrive/MyDrive/work/research/from_gpu/other_misc/gasmi/finalRoad/images/val/Numazu_20170906153851.jpg: ignoring corrupt image/label: [Errno 2] No such file or directory: '/content/gdrive/MyDrive/work/research/from_gpu/other_misc/gasmi/finalRoad/images/val/Numazu_20170906153851.jpg'\n",
            "\u001b[34m\u001b[1mval: \u001b[0mWARNING: /content/gdrive/MyDrive/work/research/from_gpu/other_misc/gasmi/finalRoad/images/val/Numazu_20170906153944.jpg: ignoring corrupt image/label: [Errno 2] No such file or directory: '/content/gdrive/MyDrive/work/research/from_gpu/other_misc/gasmi/finalRoad/images/val/Numazu_20170906153944.jpg'\n",
            "\u001b[34m\u001b[1mval: \u001b[0mWARNING: /content/gdrive/MyDrive/work/research/from_gpu/other_misc/gasmi/finalRoad/images/val/Numazu_20170906154010.jpg: ignoring corrupt image/label: [Errno 2] No such file or directory: '/content/gdrive/MyDrive/work/research/from_gpu/other_misc/gasmi/finalRoad/images/val/Numazu_20170906154010.jpg'\n",
            "\u001b[34m\u001b[1mval: \u001b[0mWARNING: /content/gdrive/MyDrive/work/research/from_gpu/other_misc/gasmi/finalRoad/images/val/Numazu_20170906154238.jpg: ignoring corrupt image/label: [Errno 2] No such file or directory: '/content/gdrive/MyDrive/work/research/from_gpu/other_misc/gasmi/finalRoad/images/val/Numazu_20170906154238.jpg'\n",
            "\u001b[34m\u001b[1mval: \u001b[0mWARNING: /content/gdrive/MyDrive/work/research/from_gpu/other_misc/gasmi/finalRoad/images/val/Numazu_20170906154557.jpg: ignoring corrupt image/label: [Errno 2] No such file or directory: '/content/gdrive/MyDrive/work/research/from_gpu/other_misc/gasmi/finalRoad/images/val/Numazu_20170906154557.jpg'\n",
            "\u001b[34m\u001b[1mval: \u001b[0mWARNING: /content/gdrive/MyDrive/work/research/from_gpu/other_misc/gasmi/finalRoad/images/val/Numazu_20170906154614.jpg: ignoring corrupt image/label: [Errno 2] No such file or directory: '/content/gdrive/MyDrive/work/research/from_gpu/other_misc/gasmi/finalRoad/images/val/Numazu_20170906154614.jpg'\n",
            "\u001b[34m\u001b[1mval: \u001b[0mWARNING: /content/gdrive/MyDrive/work/research/from_gpu/other_misc/gasmi/finalRoad/images/val/Numazu_20170906154736.jpg: ignoring corrupt image/label: [Errno 2] No such file or directory: '/content/gdrive/MyDrive/work/research/from_gpu/other_misc/gasmi/finalRoad/images/val/Numazu_20170906154736.jpg'\n",
            "\u001b[34m\u001b[1mval: \u001b[0mWARNING: /content/gdrive/MyDrive/work/research/from_gpu/other_misc/gasmi/finalRoad/images/val/Numazu_20170906155108.jpg: ignoring corrupt image/label: [Errno 2] No such file or directory: '/content/gdrive/MyDrive/work/research/from_gpu/other_misc/gasmi/finalRoad/images/val/Numazu_20170906155108.jpg'\n",
            "\u001b[34m\u001b[1mval: \u001b[0mWARNING: /content/gdrive/MyDrive/work/research/from_gpu/other_misc/gasmi/finalRoad/images/val/Numazu_20170906155327.jpg: ignoring corrupt image/label: [Errno 2] No such file or directory: '/content/gdrive/MyDrive/work/research/from_gpu/other_misc/gasmi/finalRoad/images/val/Numazu_20170906155327.jpg'\n",
            "\u001b[34m\u001b[1mval: \u001b[0mWARNING: /content/gdrive/MyDrive/work/research/from_gpu/other_misc/gasmi/finalRoad/images/val/Numazu_20170907130508.jpg: ignoring corrupt image/label: [Errno 2] No such file or directory: '/content/gdrive/MyDrive/work/research/from_gpu/other_misc/gasmi/finalRoad/images/val/Numazu_20170907130508.jpg'\n",
            "\u001b[34m\u001b[1mval: \u001b[0mWARNING: /content/gdrive/MyDrive/work/research/from_gpu/other_misc/gasmi/finalRoad/images/val/Numazu_20170907130510.jpg: ignoring corrupt image/label: [Errno 2] No such file or directory: '/content/gdrive/MyDrive/work/research/from_gpu/other_misc/gasmi/finalRoad/images/val/Numazu_20170907130510.jpg'\n",
            "\u001b[34m\u001b[1mval: \u001b[0mWARNING: /content/gdrive/MyDrive/work/research/from_gpu/other_misc/gasmi/finalRoad/images/val/Numazu_20170907130620.jpg: ignoring corrupt image/label: [Errno 2] No such file or directory: '/content/gdrive/MyDrive/work/research/from_gpu/other_misc/gasmi/finalRoad/images/val/Numazu_20170907130620.jpg'\n",
            "\u001b[34m\u001b[1mval: \u001b[0mWARNING: /content/gdrive/MyDrive/work/research/from_gpu/other_misc/gasmi/finalRoad/images/val/Numazu_20170907130622.jpg: ignoring corrupt image/label: [Errno 2] No such file or directory: '/content/gdrive/MyDrive/work/research/from_gpu/other_misc/gasmi/finalRoad/images/val/Numazu_20170907130622.jpg'\n",
            "\u001b[34m\u001b[1mval: \u001b[0mWARNING: /content/gdrive/MyDrive/work/research/from_gpu/other_misc/gasmi/finalRoad/images/val/Numazu_20170907130830.jpg: ignoring corrupt image/label: [Errno 2] No such file or directory: '/content/gdrive/MyDrive/work/research/from_gpu/other_misc/gasmi/finalRoad/images/val/Numazu_20170907130830.jpg'\n",
            "\u001b[34m\u001b[1mval: \u001b[0mWARNING: /content/gdrive/MyDrive/work/research/from_gpu/other_misc/gasmi/finalRoad/images/val/Numazu_20170907130834.jpg: ignoring corrupt image/label: [Errno 2] No such file or directory: '/content/gdrive/MyDrive/work/research/from_gpu/other_misc/gasmi/finalRoad/images/val/Numazu_20170907130834.jpg'\n",
            "\u001b[34m\u001b[1mval: \u001b[0mWARNING: /content/gdrive/MyDrive/work/research/from_gpu/other_misc/gasmi/finalRoad/images/val/Numazu_20170907131721.jpg: ignoring corrupt image/label: [Errno 2] No such file or directory: '/content/gdrive/MyDrive/work/research/from_gpu/other_misc/gasmi/finalRoad/images/val/Numazu_20170907131721.jpg'\n",
            "\u001b[34m\u001b[1mval: \u001b[0mWARNING: /content/gdrive/MyDrive/work/research/from_gpu/other_misc/gasmi/finalRoad/images/val/Numazu_20170907131950.jpg: ignoring corrupt image/label: [Errno 2] No such file or directory: '/content/gdrive/MyDrive/work/research/from_gpu/other_misc/gasmi/finalRoad/images/val/Numazu_20170907131950.jpg'\n",
            "\u001b[34m\u001b[1mval: \u001b[0mWARNING: /content/gdrive/MyDrive/work/research/from_gpu/other_misc/gasmi/finalRoad/images/val/Numazu_20170907132008.jpg: ignoring corrupt image/label: [Errno 2] No such file or directory: '/content/gdrive/MyDrive/work/research/from_gpu/other_misc/gasmi/finalRoad/images/val/Numazu_20170907132008.jpg'\n",
            "\u001b[34m\u001b[1mval: \u001b[0mWARNING: /content/gdrive/MyDrive/work/research/from_gpu/other_misc/gasmi/finalRoad/images/val/Numazu_20170907132018.jpg: ignoring corrupt image/label: [Errno 2] No such file or directory: '/content/gdrive/MyDrive/work/research/from_gpu/other_misc/gasmi/finalRoad/images/val/Numazu_20170907132018.jpg'\n",
            "\u001b[34m\u001b[1mval: \u001b[0mWARNING: /content/gdrive/MyDrive/work/research/from_gpu/other_misc/gasmi/finalRoad/images/val/Numazu_20170907132031.jpg: ignoring corrupt image/label: [Errno 2] No such file or directory: '/content/gdrive/MyDrive/work/research/from_gpu/other_misc/gasmi/finalRoad/images/val/Numazu_20170907132031.jpg'\n",
            "\u001b[34m\u001b[1mval: \u001b[0mWARNING: /content/gdrive/MyDrive/work/research/from_gpu/other_misc/gasmi/finalRoad/images/val/Numazu_20170907132056.jpg: ignoring corrupt image/label: [Errno 2] No such file or directory: '/content/gdrive/MyDrive/work/research/from_gpu/other_misc/gasmi/finalRoad/images/val/Numazu_20170907132056.jpg'\n",
            "\u001b[34m\u001b[1mval: \u001b[0mWARNING: /content/gdrive/MyDrive/work/research/from_gpu/other_misc/gasmi/finalRoad/images/val/Numazu_20170907132308.jpg: ignoring corrupt image/label: [Errno 2] No such file or directory: '/content/gdrive/MyDrive/work/research/from_gpu/other_misc/gasmi/finalRoad/images/val/Numazu_20170907132308.jpg'\n",
            "\u001b[34m\u001b[1mval: \u001b[0mWARNING: /content/gdrive/MyDrive/work/research/from_gpu/other_misc/gasmi/finalRoad/images/val/Numazu_20170907132311.jpg: ignoring corrupt image/label: [Errno 2] No such file or directory: '/content/gdrive/MyDrive/work/research/from_gpu/other_misc/gasmi/finalRoad/images/val/Numazu_20170907132311.jpg'\n",
            "\u001b[34m\u001b[1mval: \u001b[0mWARNING: /content/gdrive/MyDrive/work/research/from_gpu/other_misc/gasmi/finalRoad/images/val/Numazu_20170907132316.jpg: ignoring corrupt image/label: [Errno 2] No such file or directory: '/content/gdrive/MyDrive/work/research/from_gpu/other_misc/gasmi/finalRoad/images/val/Numazu_20170907132316.jpg'\n",
            "\u001b[34m\u001b[1mval: \u001b[0mWARNING: /content/gdrive/MyDrive/work/research/from_gpu/other_misc/gasmi/finalRoad/images/val/Numazu_20170907132350.jpg: ignoring corrupt image/label: [Errno 2] No such file or directory: '/content/gdrive/MyDrive/work/research/from_gpu/other_misc/gasmi/finalRoad/images/val/Numazu_20170907132350.jpg'\n",
            "\u001b[34m\u001b[1mval: \u001b[0mWARNING: /content/gdrive/MyDrive/work/research/from_gpu/other_misc/gasmi/finalRoad/images/val/Numazu_20170907133305.jpg: ignoring corrupt image/label: [Errno 2] No such file or directory: '/content/gdrive/MyDrive/work/research/from_gpu/other_misc/gasmi/finalRoad/images/val/Numazu_20170907133305.jpg'\n",
            "\u001b[34m\u001b[1mval: \u001b[0mWARNING: /content/gdrive/MyDrive/work/research/from_gpu/other_misc/gasmi/finalRoad/images/val/Numazu_20170907133515.jpg: ignoring corrupt image/label: [Errno 2] No such file or directory: '/content/gdrive/MyDrive/work/research/from_gpu/other_misc/gasmi/finalRoad/images/val/Numazu_20170907133515.jpg'\n",
            "\u001b[34m\u001b[1mval: \u001b[0mWARNING: /content/gdrive/MyDrive/work/research/from_gpu/other_misc/gasmi/finalRoad/images/val/Numazu_20170907133531.jpg: ignoring corrupt image/label: [Errno 2] No such file or directory: '/content/gdrive/MyDrive/work/research/from_gpu/other_misc/gasmi/finalRoad/images/val/Numazu_20170907133531.jpg'\n",
            "\u001b[34m\u001b[1mval: \u001b[0mWARNING: /content/gdrive/MyDrive/work/research/from_gpu/other_misc/gasmi/finalRoad/images/val/Numazu_20170907134226.jpg: ignoring corrupt image/label: [Errno 2] No such file or directory: '/content/gdrive/MyDrive/work/research/from_gpu/other_misc/gasmi/finalRoad/images/val/Numazu_20170907134226.jpg'\n",
            "\u001b[34m\u001b[1mval: \u001b[0mWARNING: /content/gdrive/MyDrive/work/research/from_gpu/other_misc/gasmi/finalRoad/images/val/Numazu_20170907134819.jpg: ignoring corrupt image/label: [Errno 2] No such file or directory: '/content/gdrive/MyDrive/work/research/from_gpu/other_misc/gasmi/finalRoad/images/val/Numazu_20170907134819.jpg'\n",
            "\u001b[34m\u001b[1mval: \u001b[0mWARNING: /content/gdrive/MyDrive/work/research/from_gpu/other_misc/gasmi/finalRoad/images/val/Numazu_20170907134940.jpg: ignoring corrupt image/label: [Errno 2] No such file or directory: '/content/gdrive/MyDrive/work/research/from_gpu/other_misc/gasmi/finalRoad/images/val/Numazu_20170907134940.jpg'\n",
            "\u001b[34m\u001b[1mval: \u001b[0mWARNING: /content/gdrive/MyDrive/work/research/from_gpu/other_misc/gasmi/finalRoad/images/val/Numazu_20170907135053.jpg: ignoring corrupt image/label: [Errno 2] No such file or directory: '/content/gdrive/MyDrive/work/research/from_gpu/other_misc/gasmi/finalRoad/images/val/Numazu_20170907135053.jpg'\n",
            "\u001b[34m\u001b[1mval: \u001b[0mWARNING: /content/gdrive/MyDrive/work/research/from_gpu/other_misc/gasmi/finalRoad/images/val/Numazu_20170907135832.jpg: ignoring corrupt image/label: [Errno 2] No such file or directory: '/content/gdrive/MyDrive/work/research/from_gpu/other_misc/gasmi/finalRoad/images/val/Numazu_20170907135832.jpg'\n",
            "\u001b[34m\u001b[1mval: \u001b[0mWARNING: /content/gdrive/MyDrive/work/research/from_gpu/other_misc/gasmi/finalRoad/images/val/Numazu_20170907140603.jpg: ignoring corrupt image/label: [Errno 2] No such file or directory: '/content/gdrive/MyDrive/work/research/from_gpu/other_misc/gasmi/finalRoad/images/val/Numazu_20170907140603.jpg'\n",
            "\u001b[34m\u001b[1mval: \u001b[0mWARNING: /content/gdrive/MyDrive/work/research/from_gpu/other_misc/gasmi/finalRoad/images/val/Numazu_20170907140638.jpg: ignoring corrupt image/label: [Errno 2] No such file or directory: '/content/gdrive/MyDrive/work/research/from_gpu/other_misc/gasmi/finalRoad/images/val/Numazu_20170907140638.jpg'\n",
            "\u001b[34m\u001b[1mval: \u001b[0mWARNING: /content/gdrive/MyDrive/work/research/from_gpu/other_misc/gasmi/finalRoad/images/val/Numazu_20170907141114.jpg: ignoring corrupt image/label: [Errno 2] No such file or directory: '/content/gdrive/MyDrive/work/research/from_gpu/other_misc/gasmi/finalRoad/images/val/Numazu_20170907141114.jpg'\n",
            "\u001b[34m\u001b[1mval: \u001b[0mWARNING: /content/gdrive/MyDrive/work/research/from_gpu/other_misc/gasmi/finalRoad/images/val/Numazu_20170907141602.jpg: ignoring corrupt image/label: [Errno 2] No such file or directory: '/content/gdrive/MyDrive/work/research/from_gpu/other_misc/gasmi/finalRoad/images/val/Numazu_20170907141602.jpg'\n",
            "\u001b[34m\u001b[1mval: \u001b[0mWARNING: /content/gdrive/MyDrive/work/research/from_gpu/other_misc/gasmi/finalRoad/images/val/Numazu_20170907141627.jpg: ignoring corrupt image/label: [Errno 2] No such file or directory: '/content/gdrive/MyDrive/work/research/from_gpu/other_misc/gasmi/finalRoad/images/val/Numazu_20170907141627.jpg'\n",
            "\u001b[34m\u001b[1mval: \u001b[0mWARNING: /content/gdrive/MyDrive/work/research/from_gpu/other_misc/gasmi/finalRoad/images/val/Numazu_20170907141653.jpg: ignoring corrupt image/label: [Errno 2] No such file or directory: '/content/gdrive/MyDrive/work/research/from_gpu/other_misc/gasmi/finalRoad/images/val/Numazu_20170907141653.jpg'\n",
            "\u001b[34m\u001b[1mval: \u001b[0mWARNING: /content/gdrive/MyDrive/work/research/from_gpu/other_misc/gasmi/finalRoad/images/val/Numazu_20170907141942.jpg: ignoring corrupt image/label: [Errno 2] No such file or directory: '/content/gdrive/MyDrive/work/research/from_gpu/other_misc/gasmi/finalRoad/images/val/Numazu_20170907141942.jpg'\n",
            "\u001b[34m\u001b[1mval: \u001b[0mWARNING: /content/gdrive/MyDrive/work/research/from_gpu/other_misc/gasmi/finalRoad/images/val/Numazu_20170907141950.jpg: ignoring corrupt image/label: [Errno 2] No such file or directory: '/content/gdrive/MyDrive/work/research/from_gpu/other_misc/gasmi/finalRoad/images/val/Numazu_20170907141950.jpg'\n",
            "\u001b[34m\u001b[1mval: \u001b[0mWARNING: /content/gdrive/MyDrive/work/research/from_gpu/other_misc/gasmi/finalRoad/images/val/Numazu_20170907142029.jpg: ignoring corrupt image/label: [Errno 2] No such file or directory: '/content/gdrive/MyDrive/work/research/from_gpu/other_misc/gasmi/finalRoad/images/val/Numazu_20170907142029.jpg'\n",
            "\u001b[34m\u001b[1mval: \u001b[0mWARNING: /content/gdrive/MyDrive/work/research/from_gpu/other_misc/gasmi/finalRoad/images/val/Numazu_20170907142405.jpg: ignoring corrupt image/label: [Errno 2] No such file or directory: '/content/gdrive/MyDrive/work/research/from_gpu/other_misc/gasmi/finalRoad/images/val/Numazu_20170907142405.jpg'\n",
            "\u001b[34m\u001b[1mval: \u001b[0mWARNING: /content/gdrive/MyDrive/work/research/from_gpu/other_misc/gasmi/finalRoad/images/val/Numazu_20170907142415.jpg: ignoring corrupt image/label: [Errno 2] No such file or directory: '/content/gdrive/MyDrive/work/research/from_gpu/other_misc/gasmi/finalRoad/images/val/Numazu_20170907142415.jpg'\n",
            "\u001b[34m\u001b[1mval: \u001b[0mWARNING: /content/gdrive/MyDrive/work/research/from_gpu/other_misc/gasmi/finalRoad/images/val/Numazu_20170907142744.jpg: ignoring corrupt image/label: [Errno 2] No such file or directory: '/content/gdrive/MyDrive/work/research/from_gpu/other_misc/gasmi/finalRoad/images/val/Numazu_20170907142744.jpg'\n",
            "\u001b[34m\u001b[1mval: \u001b[0mWARNING: /content/gdrive/MyDrive/work/research/from_gpu/other_misc/gasmi/finalRoad/images/val/Numazu_20170907142934.jpg: ignoring corrupt image/label: [Errno 2] No such file or directory: '/content/gdrive/MyDrive/work/research/from_gpu/other_misc/gasmi/finalRoad/images/val/Numazu_20170907142934.jpg'\n",
            "\u001b[34m\u001b[1mval: \u001b[0mWARNING: /content/gdrive/MyDrive/work/research/from_gpu/other_misc/gasmi/finalRoad/images/val/Numazu_20170907143024.jpg: ignoring corrupt image/label: [Errno 2] No such file or directory: '/content/gdrive/MyDrive/work/research/from_gpu/other_misc/gasmi/finalRoad/images/val/Numazu_20170907143024.jpg'\n",
            "\u001b[34m\u001b[1mval: \u001b[0mWARNING: /content/gdrive/MyDrive/work/research/from_gpu/other_misc/gasmi/finalRoad/images/val/Numazu_20170907143301.jpg: ignoring corrupt image/label: [Errno 2] No such file or directory: '/content/gdrive/MyDrive/work/research/from_gpu/other_misc/gasmi/finalRoad/images/val/Numazu_20170907143301.jpg'\n",
            "\u001b[34m\u001b[1mval: \u001b[0mWARNING: /content/gdrive/MyDrive/work/research/from_gpu/other_misc/gasmi/finalRoad/images/val/Numazu_20170907143400.jpg: ignoring corrupt image/label: [Errno 2] No such file or directory: '/content/gdrive/MyDrive/work/research/from_gpu/other_misc/gasmi/finalRoad/images/val/Numazu_20170907143400.jpg'\n",
            "\u001b[34m\u001b[1mval: \u001b[0mWARNING: /content/gdrive/MyDrive/work/research/from_gpu/other_misc/gasmi/finalRoad/images/val/Numazu_20170907143622.jpg: ignoring corrupt image/label: [Errno 2] No such file or directory: '/content/gdrive/MyDrive/work/research/from_gpu/other_misc/gasmi/finalRoad/images/val/Numazu_20170907143622.jpg'\n",
            "\u001b[34m\u001b[1mval: \u001b[0mWARNING: /content/gdrive/MyDrive/work/research/from_gpu/other_misc/gasmi/finalRoad/images/val/Numazu_20170907144047.jpg: ignoring corrupt image/label: [Errno 2] No such file or directory: '/content/gdrive/MyDrive/work/research/from_gpu/other_misc/gasmi/finalRoad/images/val/Numazu_20170907144047.jpg'\n",
            "\u001b[34m\u001b[1mval: \u001b[0mWARNING: /content/gdrive/MyDrive/work/research/from_gpu/other_misc/gasmi/finalRoad/images/val/Numazu_20170907144151.jpg: ignoring corrupt image/label: [Errno 2] No such file or directory: '/content/gdrive/MyDrive/work/research/from_gpu/other_misc/gasmi/finalRoad/images/val/Numazu_20170907144151.jpg'\n",
            "\u001b[34m\u001b[1mval: \u001b[0mWARNING: /content/gdrive/MyDrive/work/research/from_gpu/other_misc/gasmi/finalRoad/images/val/Numazu_20170907144157.jpg: ignoring corrupt image/label: [Errno 2] No such file or directory: '/content/gdrive/MyDrive/work/research/from_gpu/other_misc/gasmi/finalRoad/images/val/Numazu_20170907144157.jpg'\n",
            "\u001b[34m\u001b[1mval: \u001b[0mWARNING: /content/gdrive/MyDrive/work/research/from_gpu/other_misc/gasmi/finalRoad/images/val/Numazu_20170907144237.jpg: ignoring corrupt image/label: [Errno 2] No such file or directory: '/content/gdrive/MyDrive/work/research/from_gpu/other_misc/gasmi/finalRoad/images/val/Numazu_20170907144237.jpg'\n",
            "\u001b[34m\u001b[1mval: \u001b[0mWARNING: /content/gdrive/MyDrive/work/research/from_gpu/other_misc/gasmi/finalRoad/images/val/Numazu_20170907144409.jpg: ignoring corrupt image/label: [Errno 2] No such file or directory: '/content/gdrive/MyDrive/work/research/from_gpu/other_misc/gasmi/finalRoad/images/val/Numazu_20170907144409.jpg'\n",
            "\u001b[34m\u001b[1mval: \u001b[0mWARNING: /content/gdrive/MyDrive/work/research/from_gpu/other_misc/gasmi/finalRoad/images/val/Numazu_20170907144442.jpg: ignoring corrupt image/label: [Errno 2] No such file or directory: '/content/gdrive/MyDrive/work/research/from_gpu/other_misc/gasmi/finalRoad/images/val/Numazu_20170907144442.jpg'\n",
            "\u001b[34m\u001b[1mval: \u001b[0mWARNING: /content/gdrive/MyDrive/work/research/from_gpu/other_misc/gasmi/finalRoad/images/val/Numazu_20170907144451.jpg: ignoring corrupt image/label: [Errno 2] No such file or directory: '/content/gdrive/MyDrive/work/research/from_gpu/other_misc/gasmi/finalRoad/images/val/Numazu_20170907144451.jpg'\n",
            "\u001b[34m\u001b[1mval: \u001b[0mWARNING: /content/gdrive/MyDrive/work/research/from_gpu/other_misc/gasmi/finalRoad/images/val/Numazu_20170907144539.jpg: ignoring corrupt image/label: [Errno 2] No such file or directory: '/content/gdrive/MyDrive/work/research/from_gpu/other_misc/gasmi/finalRoad/images/val/Numazu_20170907144539.jpg'\n",
            "\u001b[34m\u001b[1mval: \u001b[0mWARNING: /content/gdrive/MyDrive/work/research/from_gpu/other_misc/gasmi/finalRoad/images/val/Numazu_20170907145217.jpg: ignoring corrupt image/label: [Errno 2] No such file or directory: '/content/gdrive/MyDrive/work/research/from_gpu/other_misc/gasmi/finalRoad/images/val/Numazu_20170907145217.jpg'\n",
            "\u001b[34m\u001b[1mval: \u001b[0mWARNING: /content/gdrive/MyDrive/work/research/from_gpu/other_misc/gasmi/finalRoad/images/val/Numazu_20170907145248.jpg: ignoring corrupt image/label: [Errno 2] No such file or directory: '/content/gdrive/MyDrive/work/research/from_gpu/other_misc/gasmi/finalRoad/images/val/Numazu_20170907145248.jpg'\n",
            "\u001b[34m\u001b[1mval: \u001b[0mWARNING: /content/gdrive/MyDrive/work/research/from_gpu/other_misc/gasmi/finalRoad/images/val/Numazu_20170907145252.jpg: ignoring corrupt image/label: [Errno 2] No such file or directory: '/content/gdrive/MyDrive/work/research/from_gpu/other_misc/gasmi/finalRoad/images/val/Numazu_20170907145252.jpg'\n",
            "\u001b[34m\u001b[1mval: \u001b[0mWARNING: /content/gdrive/MyDrive/work/research/from_gpu/other_misc/gasmi/finalRoad/images/val/Numazu_20170907145954.jpg: ignoring corrupt image/label: [Errno 2] No such file or directory: '/content/gdrive/MyDrive/work/research/from_gpu/other_misc/gasmi/finalRoad/images/val/Numazu_20170907145954.jpg'\n",
            "\u001b[34m\u001b[1mval: \u001b[0mWARNING: /content/gdrive/MyDrive/work/research/from_gpu/other_misc/gasmi/finalRoad/images/val/Numazu_20170907150250.jpg: ignoring corrupt image/label: [Errno 2] No such file or directory: '/content/gdrive/MyDrive/work/research/from_gpu/other_misc/gasmi/finalRoad/images/val/Numazu_20170907150250.jpg'\n",
            "\u001b[34m\u001b[1mval: \u001b[0mWARNING: /content/gdrive/MyDrive/work/research/from_gpu/other_misc/gasmi/finalRoad/images/val/Numazu_20170907150300.jpg: ignoring corrupt image/label: [Errno 2] No such file or directory: '/content/gdrive/MyDrive/work/research/from_gpu/other_misc/gasmi/finalRoad/images/val/Numazu_20170907150300.jpg'\n",
            "\u001b[34m\u001b[1mval: \u001b[0mWARNING: /content/gdrive/MyDrive/work/research/from_gpu/other_misc/gasmi/finalRoad/images/val/Numazu_20170907150321.jpg: ignoring corrupt image/label: [Errno 2] No such file or directory: '/content/gdrive/MyDrive/work/research/from_gpu/other_misc/gasmi/finalRoad/images/val/Numazu_20170907150321.jpg'\n",
            "\u001b[34m\u001b[1mval: \u001b[0mWARNING: /content/gdrive/MyDrive/work/research/from_gpu/other_misc/gasmi/finalRoad/images/val/Numazu_20170911094214.jpg: ignoring corrupt image/label: [Errno 2] No such file or directory: '/content/gdrive/MyDrive/work/research/from_gpu/other_misc/gasmi/finalRoad/images/val/Numazu_20170911094214.jpg'\n",
            "\u001b[34m\u001b[1mval: \u001b[0mWARNING: /content/gdrive/MyDrive/work/research/from_gpu/other_misc/gasmi/finalRoad/images/val/Numazu_20170911094529.jpg: ignoring corrupt image/label: [Errno 2] No such file or directory: '/content/gdrive/MyDrive/work/research/from_gpu/other_misc/gasmi/finalRoad/images/val/Numazu_20170911094529.jpg'\n",
            "\u001b[34m\u001b[1mval: \u001b[0mWARNING: /content/gdrive/MyDrive/work/research/from_gpu/other_misc/gasmi/finalRoad/images/val/Sumida_20170907134435.jpg: ignoring corrupt image/label: [Errno 2] No such file or directory: '/content/gdrive/MyDrive/work/research/from_gpu/other_misc/gasmi/finalRoad/images/val/Sumida_20170907134435.jpg'\n",
            "\u001b[34m\u001b[1mval: \u001b[0mWARNING: /content/gdrive/MyDrive/work/research/from_gpu/other_misc/gasmi/finalRoad/images/val/Sumida_20170907141958.jpg: ignoring corrupt image/label: [Errno 2] No such file or directory: '/content/gdrive/MyDrive/work/research/from_gpu/other_misc/gasmi/finalRoad/images/val/Sumida_20170907141958.jpg'\n",
            "\u001b[34m\u001b[1mval: \u001b[0mWARNING: /content/gdrive/MyDrive/work/research/from_gpu/other_misc/gasmi/finalRoad/images/val/Sumida_20170907143059.jpg: ignoring corrupt image/label: [Errno 2] No such file or directory: '/content/gdrive/MyDrive/work/research/from_gpu/other_misc/gasmi/finalRoad/images/val/Sumida_20170907143059.jpg'\n",
            "\u001b[34m\u001b[1mval: \u001b[0mWARNING: /content/gdrive/MyDrive/work/research/from_gpu/other_misc/gasmi/finalRoad/images/val/Sumida_20170907143656.jpg: ignoring corrupt image/label: [Errno 2] No such file or directory: '/content/gdrive/MyDrive/work/research/from_gpu/other_misc/gasmi/finalRoad/images/val/Sumida_20170907143656.jpg'\n",
            "\u001b[34m\u001b[1mval: \u001b[0mWARNING: /content/gdrive/MyDrive/work/research/from_gpu/other_misc/gasmi/finalRoad/images/val/Sumida_20170907151639.jpg: ignoring corrupt image/label: [Errno 2] No such file or directory: '/content/gdrive/MyDrive/work/research/from_gpu/other_misc/gasmi/finalRoad/images/val/Sumida_20170907151639.jpg'\n",
            "\u001b[34m\u001b[1mval: \u001b[0mWARNING: /content/gdrive/MyDrive/work/research/from_gpu/other_misc/gasmi/finalRoad/images/val/Sumida_20170907152240.jpg: ignoring corrupt image/label: [Errno 2] No such file or directory: '/content/gdrive/MyDrive/work/research/from_gpu/other_misc/gasmi/finalRoad/images/val/Sumida_20170907152240.jpg'\n",
            "\u001b[34m\u001b[1mval: \u001b[0mWARNING: /content/gdrive/MyDrive/work/research/from_gpu/other_misc/gasmi/finalRoad/images/val/Sumida_20170907152250.jpg: ignoring corrupt image/label: [Errno 2] No such file or directory: '/content/gdrive/MyDrive/work/research/from_gpu/other_misc/gasmi/finalRoad/images/val/Sumida_20170907152250.jpg'\n",
            "\u001b[34m\u001b[1mval: \u001b[0mWARNING: /content/gdrive/MyDrive/work/research/from_gpu/other_misc/gasmi/finalRoad/images/val/Sumida_20170907153318.jpg: ignoring corrupt image/label: [Errno 2] No such file or directory: '/content/gdrive/MyDrive/work/research/from_gpu/other_misc/gasmi/finalRoad/images/val/Sumida_20170907153318.jpg'\n",
            "\u001b[34m\u001b[1mval: \u001b[0mWARNING: /content/gdrive/MyDrive/work/research/from_gpu/other_misc/gasmi/finalRoad/images/val/Sumida_20170907160741.jpg: ignoring corrupt image/label: [Errno 2] No such file or directory: '/content/gdrive/MyDrive/work/research/from_gpu/other_misc/gasmi/finalRoad/images/val/Sumida_20170907160741.jpg'\n",
            "\u001b[34m\u001b[1mval: \u001b[0mWARNING: /content/gdrive/MyDrive/work/research/from_gpu/other_misc/gasmi/finalRoad/images/val/Sumida_20170907164740.jpg: ignoring corrupt image/label: [Errno 2] No such file or directory: '/content/gdrive/MyDrive/work/research/from_gpu/other_misc/gasmi/finalRoad/images/val/Sumida_20170907164740.jpg'\n",
            "\u001b[34m\u001b[1mval: \u001b[0mWARNING: /content/gdrive/MyDrive/work/research/from_gpu/other_misc/gasmi/finalRoad/images/val/Sumida_20170907170150.jpg: ignoring corrupt image/label: [Errno 2] No such file or directory: '/content/gdrive/MyDrive/work/research/from_gpu/other_misc/gasmi/finalRoad/images/val/Sumida_20170907170150.jpg'\n",
            "\u001b[34m\u001b[1mval: \u001b[0mWARNING: /content/gdrive/MyDrive/work/research/from_gpu/other_misc/gasmi/finalRoad/images/val/Sumida_20170907170154.jpg: ignoring corrupt image/label: [Errno 2] No such file or directory: '/content/gdrive/MyDrive/work/research/from_gpu/other_misc/gasmi/finalRoad/images/val/Sumida_20170907170154.jpg'\n",
            "\u001b[34m\u001b[1mval: \u001b[0mWARNING: /content/gdrive/MyDrive/work/research/from_gpu/other_misc/gasmi/finalRoad/images/val/Sumida_20170907170239.jpg: ignoring corrupt image/label: [Errno 2] No such file or directory: '/content/gdrive/MyDrive/work/research/from_gpu/other_misc/gasmi/finalRoad/images/val/Sumida_20170907170239.jpg'\n",
            "\u001b[34m\u001b[1mval: \u001b[0mWARNING: /content/gdrive/MyDrive/work/research/from_gpu/other_misc/gasmi/finalRoad/images/val/Sumida_20170907170425.jpg: ignoring corrupt image/label: [Errno 2] No such file or directory: '/content/gdrive/MyDrive/work/research/from_gpu/other_misc/gasmi/finalRoad/images/val/Sumida_20170907170425.jpg'\n",
            "\u001b[34m\u001b[1mval: \u001b[0mWARNING: /content/gdrive/MyDrive/work/research/from_gpu/other_misc/gasmi/finalRoad/images/val/Sumida_20170907170650.jpg: ignoring corrupt image/label: [Errno 2] No such file or directory: '/content/gdrive/MyDrive/work/research/from_gpu/other_misc/gasmi/finalRoad/images/val/Sumida_20170907170650.jpg'\n",
            "\u001b[34m\u001b[1mval: \u001b[0mWARNING: /content/gdrive/MyDrive/work/research/from_gpu/other_misc/gasmi/finalRoad/images/val/Sumida_20170908155710.jpg: ignoring corrupt image/label: [Errno 2] No such file or directory: '/content/gdrive/MyDrive/work/research/from_gpu/other_misc/gasmi/finalRoad/images/val/Sumida_20170908155710.jpg'\n",
            "\u001b[34m\u001b[1mval: \u001b[0mWARNING: /content/gdrive/MyDrive/work/research/from_gpu/other_misc/gasmi/finalRoad/images/val/Sumida_20170908162344.jpg: ignoring corrupt image/label: [Errno 2] No such file or directory: '/content/gdrive/MyDrive/work/research/from_gpu/other_misc/gasmi/finalRoad/images/val/Sumida_20170908162344.jpg'\n",
            "\u001b[34m\u001b[1mval: \u001b[0mWARNING: /content/gdrive/MyDrive/work/research/from_gpu/other_misc/gasmi/finalRoad/images/val/Sumida_20170908164404.jpg: ignoring corrupt image/label: [Errno 2] No such file or directory: '/content/gdrive/MyDrive/work/research/from_gpu/other_misc/gasmi/finalRoad/images/val/Sumida_20170908164404.jpg'\n",
            "\u001b[34m\u001b[1mval: \u001b[0mWARNING: /content/gdrive/MyDrive/work/research/from_gpu/other_misc/gasmi/finalRoad/images/val/Sumida_20170911140138.jpg: ignoring corrupt image/label: [Errno 2] No such file or directory: '/content/gdrive/MyDrive/work/research/from_gpu/other_misc/gasmi/finalRoad/images/val/Sumida_20170911140138.jpg'\n",
            "\u001b[34m\u001b[1mval: \u001b[0mWARNING: /content/gdrive/MyDrive/work/research/from_gpu/other_misc/gasmi/finalRoad/images/val/Sumida_20170911140421.jpg: ignoring corrupt image/label: [Errno 2] No such file or directory: '/content/gdrive/MyDrive/work/research/from_gpu/other_misc/gasmi/finalRoad/images/val/Sumida_20170911140421.jpg'\n",
            "\u001b[34m\u001b[1mval: \u001b[0mWARNING: /content/gdrive/MyDrive/work/research/from_gpu/other_misc/gasmi/finalRoad/images/val/Sumida_20170911142413.jpg: ignoring corrupt image/label: [Errno 2] No such file or directory: '/content/gdrive/MyDrive/work/research/from_gpu/other_misc/gasmi/finalRoad/images/val/Sumida_20170911142413.jpg'\n",
            "\u001b[34m\u001b[1mval: \u001b[0mWARNING: /content/gdrive/MyDrive/work/research/from_gpu/other_misc/gasmi/finalRoad/images/val/Sumida_20170911142437.jpg: ignoring corrupt image/label: [Errno 2] No such file or directory: '/content/gdrive/MyDrive/work/research/from_gpu/other_misc/gasmi/finalRoad/images/val/Sumida_20170911142437.jpg'\n",
            "\u001b[34m\u001b[1mval: \u001b[0mWARNING: /content/gdrive/MyDrive/work/research/from_gpu/other_misc/gasmi/finalRoad/images/val/Sumida_20170911142515.jpg: ignoring corrupt image/label: [Errno 2] No such file or directory: '/content/gdrive/MyDrive/work/research/from_gpu/other_misc/gasmi/finalRoad/images/val/Sumida_20170911142515.jpg'\n",
            "\u001b[34m\u001b[1mval: \u001b[0mWARNING: /content/gdrive/MyDrive/work/research/from_gpu/other_misc/gasmi/finalRoad/images/val/Sumida_20170911145240.jpg: ignoring corrupt image/label: [Errno 2] No such file or directory: '/content/gdrive/MyDrive/work/research/from_gpu/other_misc/gasmi/finalRoad/images/val/Sumida_20170911145240.jpg'\n",
            "\u001b[34m\u001b[1mval: \u001b[0mWARNING: /content/gdrive/MyDrive/work/research/from_gpu/other_misc/gasmi/finalRoad/images/val/Sumida_20170911153331.jpg: ignoring corrupt image/label: [Errno 2] No such file or directory: '/content/gdrive/MyDrive/work/research/from_gpu/other_misc/gasmi/finalRoad/images/val/Sumida_20170911153331.jpg'\n",
            "\u001b[34m\u001b[1mval: \u001b[0mWARNING: /content/gdrive/MyDrive/work/research/from_gpu/other_misc/gasmi/finalRoad/images/val/Sumida_20170911153334.jpg: ignoring corrupt image/label: [Errno 2] No such file or directory: '/content/gdrive/MyDrive/work/research/from_gpu/other_misc/gasmi/finalRoad/images/val/Sumida_20170911153334.jpg'\n",
            "\u001b[34m\u001b[1mval: \u001b[0mWARNING: /content/gdrive/MyDrive/work/research/from_gpu/other_misc/gasmi/finalRoad/images/val/Sumida_20170911155759.jpg: ignoring corrupt image/label: [Errno 2] No such file or directory: '/content/gdrive/MyDrive/work/research/from_gpu/other_misc/gasmi/finalRoad/images/val/Sumida_20170911155759.jpg'\n",
            "\u001b[34m\u001b[1mval: \u001b[0mWARNING: /content/gdrive/MyDrive/work/research/from_gpu/other_misc/gasmi/finalRoad/images/val/Sumida_20170911155804.jpg: ignoring corrupt image/label: [Errno 2] No such file or directory: '/content/gdrive/MyDrive/work/research/from_gpu/other_misc/gasmi/finalRoad/images/val/Sumida_20170911155804.jpg'\n",
            "\u001b[34m\u001b[1mval: \u001b[0mWARNING: /content/gdrive/MyDrive/work/research/from_gpu/other_misc/gasmi/finalRoad/images/val/Sumida_20170911170002.jpg: ignoring corrupt image/label: [Errno 2] No such file or directory: '/content/gdrive/MyDrive/work/research/from_gpu/other_misc/gasmi/finalRoad/images/val/Sumida_20170911170002.jpg'\n",
            "\u001b[34m\u001b[1mval: \u001b[0mWARNING: /content/gdrive/MyDrive/work/research/from_gpu/other_misc/gasmi/finalRoad/images/val/Sumida_20170911170008.jpg: ignoring corrupt image/label: [Errno 2] No such file or directory: '/content/gdrive/MyDrive/work/research/from_gpu/other_misc/gasmi/finalRoad/images/val/Sumida_20170911170008.jpg'\n",
            "\u001b[34m\u001b[1mval: \u001b[0mWARNING: /content/gdrive/MyDrive/work/research/from_gpu/other_misc/gasmi/finalRoad/images/val/Sumida_20170911170035.jpg: ignoring corrupt image/label: [Errno 2] No such file or directory: '/content/gdrive/MyDrive/work/research/from_gpu/other_misc/gasmi/finalRoad/images/val/Sumida_20170911170035.jpg'\n",
            "\u001b[34m\u001b[1mval: \u001b[0mWARNING: /content/gdrive/MyDrive/work/research/from_gpu/other_misc/gasmi/finalRoad/images/val/Sumida_20170911170250.jpg: ignoring corrupt image/label: [Errno 2] No such file or directory: '/content/gdrive/MyDrive/work/research/from_gpu/other_misc/gasmi/finalRoad/images/val/Sumida_20170911170250.jpg'\n",
            "\u001b[34m\u001b[1mval: \u001b[0mWARNING: /content/gdrive/MyDrive/work/research/from_gpu/other_misc/gasmi/finalRoad/images/val/Sumida_20170911170622.jpg: ignoring corrupt image/label: [Errno 2] No such file or directory: '/content/gdrive/MyDrive/work/research/from_gpu/other_misc/gasmi/finalRoad/images/val/Sumida_20170911170622.jpg'\n",
            "\u001b[34m\u001b[1mval: \u001b[0mWARNING: /content/gdrive/MyDrive/work/research/from_gpu/other_misc/gasmi/finalRoad/images/val/Sumida_20170911171626.jpg: ignoring corrupt image/label: [Errno 2] No such file or directory: '/content/gdrive/MyDrive/work/research/from_gpu/other_misc/gasmi/finalRoad/images/val/Sumida_20170911171626.jpg'\n",
            "\u001b[34m\u001b[1mval: \u001b[0mWARNING: /content/gdrive/MyDrive/work/research/from_gpu/other_misc/gasmi/finalRoad/images/val/Sumida_20170911171917.jpg: ignoring corrupt image/label: [Errno 2] No such file or directory: '/content/gdrive/MyDrive/work/research/from_gpu/other_misc/gasmi/finalRoad/images/val/Sumida_20170911171917.jpg'\n",
            "\u001b[34m\u001b[1mval: \u001b[0mWARNING: /content/gdrive/MyDrive/work/research/from_gpu/other_misc/gasmi/finalRoad/images/val/Sumida_20170912091306.jpg: ignoring corrupt image/label: [Errno 2] No such file or directory: '/content/gdrive/MyDrive/work/research/from_gpu/other_misc/gasmi/finalRoad/images/val/Sumida_20170912091306.jpg'\n",
            "\u001b[34m\u001b[1mval: \u001b[0mWARNING: /content/gdrive/MyDrive/work/research/from_gpu/other_misc/gasmi/finalRoad/images/val/Sumida_20170912091806.jpg: ignoring corrupt image/label: [Errno 2] No such file or directory: '/content/gdrive/MyDrive/work/research/from_gpu/other_misc/gasmi/finalRoad/images/val/Sumida_20170912091806.jpg'\n",
            "\u001b[34m\u001b[1mval: \u001b[0mWARNING: /content/gdrive/MyDrive/work/research/from_gpu/other_misc/gasmi/finalRoad/images/val/Sumida_20170912091856.jpg: ignoring corrupt image/label: [Errno 2] No such file or directory: '/content/gdrive/MyDrive/work/research/from_gpu/other_misc/gasmi/finalRoad/images/val/Sumida_20170912091856.jpg'\n",
            "\u001b[34m\u001b[1mval: \u001b[0mWARNING: /content/gdrive/MyDrive/work/research/from_gpu/other_misc/gasmi/finalRoad/images/val/Sumida_20170912112333.jpg: ignoring corrupt image/label: [Errno 2] No such file or directory: '/content/gdrive/MyDrive/work/research/from_gpu/other_misc/gasmi/finalRoad/images/val/Sumida_20170912112333.jpg'\n",
            "\u001b[34m\u001b[1mval: \u001b[0mWARNING: /content/gdrive/MyDrive/work/research/from_gpu/other_misc/gasmi/finalRoad/images/val/Sumida_20170912112524.jpg: ignoring corrupt image/label: [Errno 2] No such file or directory: '/content/gdrive/MyDrive/work/research/from_gpu/other_misc/gasmi/finalRoad/images/val/Sumida_20170912112524.jpg'\n",
            "\u001b[34m\u001b[1mval: \u001b[0mWARNING: /content/gdrive/MyDrive/work/research/from_gpu/other_misc/gasmi/finalRoad/images/val/Sumida_20170912145318.jpg: ignoring corrupt image/label: [Errno 2] No such file or directory: '/content/gdrive/MyDrive/work/research/from_gpu/other_misc/gasmi/finalRoad/images/val/Sumida_20170912145318.jpg'\n",
            "\u001b[34m\u001b[1mval: \u001b[0mWARNING: /content/gdrive/MyDrive/work/research/from_gpu/other_misc/gasmi/finalRoad/images/val/Sumida_20170912145338.jpg: ignoring corrupt image/label: [Errno 2] No such file or directory: '/content/gdrive/MyDrive/work/research/from_gpu/other_misc/gasmi/finalRoad/images/val/Sumida_20170912145338.jpg'\n",
            "\u001b[34m\u001b[1mval: \u001b[0mWARNING: /content/gdrive/MyDrive/work/research/from_gpu/other_misc/gasmi/finalRoad/images/val/Sumida_20170912152355.jpg: ignoring corrupt image/label: [Errno 2] No such file or directory: '/content/gdrive/MyDrive/work/research/from_gpu/other_misc/gasmi/finalRoad/images/val/Sumida_20170912152355.jpg'\n",
            "\u001b[34m\u001b[1mval: \u001b[0mWARNING: /content/gdrive/MyDrive/work/research/from_gpu/other_misc/gasmi/finalRoad/images/val/Sumida_20170912152503.jpg: ignoring corrupt image/label: [Errno 2] No such file or directory: '/content/gdrive/MyDrive/work/research/from_gpu/other_misc/gasmi/finalRoad/images/val/Sumida_20170912152503.jpg'\n",
            "\u001b[34m\u001b[1mval: \u001b[0mWARNING: /content/gdrive/MyDrive/work/research/from_gpu/other_misc/gasmi/finalRoad/images/val/Sumida_20170912154708.jpg: ignoring corrupt image/label: [Errno 2] No such file or directory: '/content/gdrive/MyDrive/work/research/from_gpu/other_misc/gasmi/finalRoad/images/val/Sumida_20170912154708.jpg'\n",
            "\u001b[34m\u001b[1mval: \u001b[0mWARNING: /content/gdrive/MyDrive/work/research/from_gpu/other_misc/gasmi/finalRoad/images/val/Sumida_20170913151107.jpg: ignoring corrupt image/label: [Errno 2] No such file or directory: '/content/gdrive/MyDrive/work/research/from_gpu/other_misc/gasmi/finalRoad/images/val/Sumida_20170913151107.jpg'\n",
            "\u001b[34m\u001b[1mval: \u001b[0mWARNING: /content/gdrive/MyDrive/work/research/from_gpu/other_misc/gasmi/finalRoad/images/val/Sumida_20170913151206.jpg: ignoring corrupt image/label: [Errno 2] No such file or directory: '/content/gdrive/MyDrive/work/research/from_gpu/other_misc/gasmi/finalRoad/images/val/Sumida_20170913151206.jpg'\n",
            "\u001b[34m\u001b[1mval: \u001b[0mWARNING: /content/gdrive/MyDrive/work/research/from_gpu/other_misc/gasmi/finalRoad/images/val/Sumida_20170913153254.jpg: ignoring corrupt image/label: [Errno 2] No such file or directory: '/content/gdrive/MyDrive/work/research/from_gpu/other_misc/gasmi/finalRoad/images/val/Sumida_20170913153254.jpg'\n",
            "\u001b[34m\u001b[1mval: \u001b[0mWARNING: /content/gdrive/MyDrive/work/research/from_gpu/other_misc/gasmi/finalRoad/images/val/Sumida_20170913153652.jpg: ignoring corrupt image/label: [Errno 2] No such file or directory: '/content/gdrive/MyDrive/work/research/from_gpu/other_misc/gasmi/finalRoad/images/val/Sumida_20170913153652.jpg'\n",
            "\u001b[34m\u001b[1mval: \u001b[0mWARNING: /content/gdrive/MyDrive/work/research/from_gpu/other_misc/gasmi/finalRoad/images/val/Sumida_20170913154352.jpg: ignoring corrupt image/label: [Errno 2] No such file or directory: '/content/gdrive/MyDrive/work/research/from_gpu/other_misc/gasmi/finalRoad/images/val/Sumida_20170913154352.jpg'\n",
            "\u001b[34m\u001b[1mval: \u001b[0mWARNING: /content/gdrive/MyDrive/work/research/from_gpu/other_misc/gasmi/finalRoad/images/val/Sumida_20170913154414.jpg: ignoring corrupt image/label: [Errno 2] No such file or directory: '/content/gdrive/MyDrive/work/research/from_gpu/other_misc/gasmi/finalRoad/images/val/Sumida_20170913154414.jpg'\n",
            "\u001b[34m\u001b[1mval: \u001b[0mWARNING: /content/gdrive/MyDrive/work/research/from_gpu/other_misc/gasmi/finalRoad/images/val/Sumida_20170913154555.jpg: ignoring corrupt image/label: [Errno 2] No such file or directory: '/content/gdrive/MyDrive/work/research/from_gpu/other_misc/gasmi/finalRoad/images/val/Sumida_20170913154555.jpg'\n",
            "\u001b[34m\u001b[1mval: \u001b[0mWARNING: /content/gdrive/MyDrive/work/research/from_gpu/other_misc/gasmi/finalRoad/images/val/Sumida_20170913155855.jpg: ignoring corrupt image/label: [Errno 2] No such file or directory: '/content/gdrive/MyDrive/work/research/from_gpu/other_misc/gasmi/finalRoad/images/val/Sumida_20170913155855.jpg'\n",
            "\u001b[34m\u001b[1mval: \u001b[0mWARNING: /content/gdrive/MyDrive/work/research/from_gpu/other_misc/gasmi/finalRoad/images/val/Sumida_20170913160332.jpg: ignoring corrupt image/label: [Errno 2] No such file or directory: '/content/gdrive/MyDrive/work/research/from_gpu/other_misc/gasmi/finalRoad/images/val/Sumida_20170913160332.jpg'\n",
            "\u001b[34m\u001b[1mval: \u001b[0mWARNING: /content/gdrive/MyDrive/work/research/from_gpu/other_misc/gasmi/finalRoad/images/val/Sumida_20170913160343.jpg: ignoring corrupt image/label: [Errno 2] No such file or directory: '/content/gdrive/MyDrive/work/research/from_gpu/other_misc/gasmi/finalRoad/images/val/Sumida_20170913160343.jpg'\n",
            "\u001b[34m\u001b[1mval: \u001b[0mWARNING: /content/gdrive/MyDrive/work/research/from_gpu/other_misc/gasmi/finalRoad/images/val/Sumida_20170913160744.jpg: ignoring corrupt image/label: [Errno 2] No such file or directory: '/content/gdrive/MyDrive/work/research/from_gpu/other_misc/gasmi/finalRoad/images/val/Sumida_20170913160744.jpg'\n",
            "\u001b[34m\u001b[1mval: \u001b[0mWARNING: /content/gdrive/MyDrive/work/research/from_gpu/other_misc/gasmi/finalRoad/images/val/Sumida_20170913161248.jpg: ignoring corrupt image/label: [Errno 2] No such file or directory: '/content/gdrive/MyDrive/work/research/from_gpu/other_misc/gasmi/finalRoad/images/val/Sumida_20170913161248.jpg'\n",
            "\u001b[34m\u001b[1mval: \u001b[0mWARNING: /content/gdrive/MyDrive/work/research/from_gpu/other_misc/gasmi/finalRoad/images/val/Sumida_20170913162133.jpg: ignoring corrupt image/label: [Errno 2] No such file or directory: '/content/gdrive/MyDrive/work/research/from_gpu/other_misc/gasmi/finalRoad/images/val/Sumida_20170913162133.jpg'\n",
            "\u001b[34m\u001b[1mval: \u001b[0mWARNING: /content/gdrive/MyDrive/work/research/from_gpu/other_misc/gasmi/finalRoad/images/val/Sumida_20170913164735.jpg: ignoring corrupt image/label: [Errno 2] No such file or directory: '/content/gdrive/MyDrive/work/research/from_gpu/other_misc/gasmi/finalRoad/images/val/Sumida_20170913164735.jpg'\n",
            "\u001b[34m\u001b[1mval: \u001b[0mWARNING: /content/gdrive/MyDrive/work/research/from_gpu/other_misc/gasmi/finalRoad/images/val/Sumida_20170913165217.jpg: ignoring corrupt image/label: [Errno 2] No such file or directory: '/content/gdrive/MyDrive/work/research/from_gpu/other_misc/gasmi/finalRoad/images/val/Sumida_20170913165217.jpg'\n",
            "\u001b[34m\u001b[1mval: \u001b[0mWARNING: /content/gdrive/MyDrive/work/research/from_gpu/other_misc/gasmi/finalRoad/images/val/Sumida_20170913165531.jpg: ignoring corrupt image/label: [Errno 2] No such file or directory: '/content/gdrive/MyDrive/work/research/from_gpu/other_misc/gasmi/finalRoad/images/val/Sumida_20170913165531.jpg'\n",
            "\u001b[34m\u001b[1mval: \u001b[0mWARNING: /content/gdrive/MyDrive/work/research/from_gpu/other_misc/gasmi/finalRoad/images/val/Sumida_20170914160422.jpg: ignoring corrupt image/label: [Errno 2] No such file or directory: '/content/gdrive/MyDrive/work/research/from_gpu/other_misc/gasmi/finalRoad/images/val/Sumida_20170914160422.jpg'\n",
            "\u001b[34m\u001b[1mval: \u001b[0mWARNING: /content/gdrive/MyDrive/work/research/from_gpu/other_misc/gasmi/finalRoad/images/val/Sumida_20170914160429.jpg: ignoring corrupt image/label: [Errno 2] No such file or directory: '/content/gdrive/MyDrive/work/research/from_gpu/other_misc/gasmi/finalRoad/images/val/Sumida_20170914160429.jpg'\n",
            "\u001b[34m\u001b[1mval: \u001b[0mWARNING: /content/gdrive/MyDrive/work/research/from_gpu/other_misc/gasmi/finalRoad/images/val/Sumida_20170915090534.jpg: ignoring corrupt image/label: [Errno 2] No such file or directory: '/content/gdrive/MyDrive/work/research/from_gpu/other_misc/gasmi/finalRoad/images/val/Sumida_20170915090534.jpg'\n",
            "\u001b[34m\u001b[1mval: \u001b[0mWARNING: /content/gdrive/MyDrive/work/research/from_gpu/other_misc/gasmi/finalRoad/images/val/Sumida_20170915090632.jpg: ignoring corrupt image/label: [Errno 2] No such file or directory: '/content/gdrive/MyDrive/work/research/from_gpu/other_misc/gasmi/finalRoad/images/val/Sumida_20170915090632.jpg'\n",
            "\u001b[34m\u001b[1mval: \u001b[0mWARNING: /content/gdrive/MyDrive/work/research/from_gpu/other_misc/gasmi/finalRoad/images/val/Sumida_20170915090633.jpg: ignoring corrupt image/label: [Errno 2] No such file or directory: '/content/gdrive/MyDrive/work/research/from_gpu/other_misc/gasmi/finalRoad/images/val/Sumida_20170915090633.jpg'\n",
            "\u001b[34m\u001b[1mval: \u001b[0mWARNING: /content/gdrive/MyDrive/work/research/from_gpu/other_misc/gasmi/finalRoad/images/val/Sumida_20170915090813.jpg: ignoring corrupt image/label: [Errno 2] No such file or directory: '/content/gdrive/MyDrive/work/research/from_gpu/other_misc/gasmi/finalRoad/images/val/Sumida_20170915090813.jpg'\n",
            "\u001b[34m\u001b[1mval: \u001b[0mWARNING: /content/gdrive/MyDrive/work/research/from_gpu/other_misc/gasmi/finalRoad/images/val/Sumida_20170915091513.jpg: ignoring corrupt image/label: [Errno 2] No such file or directory: '/content/gdrive/MyDrive/work/research/from_gpu/other_misc/gasmi/finalRoad/images/val/Sumida_20170915091513.jpg'\n",
            "\u001b[34m\u001b[1mval: \u001b[0mWARNING: /content/gdrive/MyDrive/work/research/from_gpu/other_misc/gasmi/finalRoad/images/val/Sumida_20170915091950.jpg: ignoring corrupt image/label: [Errno 2] No such file or directory: '/content/gdrive/MyDrive/work/research/from_gpu/other_misc/gasmi/finalRoad/images/val/Sumida_20170915091950.jpg'\n",
            "\u001b[34m\u001b[1mval: \u001b[0mWARNING: /content/gdrive/MyDrive/work/research/from_gpu/other_misc/gasmi/finalRoad/images/val/Sumida_20170915092218.jpg: ignoring corrupt image/label: [Errno 2] No such file or directory: '/content/gdrive/MyDrive/work/research/from_gpu/other_misc/gasmi/finalRoad/images/val/Sumida_20170915092218.jpg'\n",
            "\u001b[34m\u001b[1mval: \u001b[0mWARNING: /content/gdrive/MyDrive/work/research/from_gpu/other_misc/gasmi/finalRoad/images/val/Sumida_20170915093111.jpg: ignoring corrupt image/label: [Errno 2] No such file or directory: '/content/gdrive/MyDrive/work/research/from_gpu/other_misc/gasmi/finalRoad/images/val/Sumida_20170915093111.jpg'\n",
            "\u001b[34m\u001b[1mval: \u001b[0mWARNING: /content/gdrive/MyDrive/work/research/from_gpu/other_misc/gasmi/finalRoad/images/val/Sumida_20170915093341.jpg: ignoring corrupt image/label: [Errno 2] No such file or directory: '/content/gdrive/MyDrive/work/research/from_gpu/other_misc/gasmi/finalRoad/images/val/Sumida_20170915093341.jpg'\n",
            "\u001b[34m\u001b[1mval: \u001b[0mWARNING: /content/gdrive/MyDrive/work/research/from_gpu/other_misc/gasmi/finalRoad/images/val/Sumida_20170915093351.jpg: ignoring corrupt image/label: [Errno 2] No such file or directory: '/content/gdrive/MyDrive/work/research/from_gpu/other_misc/gasmi/finalRoad/images/val/Sumida_20170915093351.jpg'\n",
            "\u001b[34m\u001b[1mval: \u001b[0mWARNING: /content/gdrive/MyDrive/work/research/from_gpu/other_misc/gasmi/finalRoad/images/val/Sumida_20170915093753.jpg: ignoring corrupt image/label: [Errno 2] No such file or directory: '/content/gdrive/MyDrive/work/research/from_gpu/other_misc/gasmi/finalRoad/images/val/Sumida_20170915093753.jpg'\n",
            "\u001b[34m\u001b[1mval: \u001b[0mWARNING: /content/gdrive/MyDrive/work/research/from_gpu/other_misc/gasmi/finalRoad/images/val/Sumida_20170915093947.jpg: ignoring corrupt image/label: [Errno 2] No such file or directory: '/content/gdrive/MyDrive/work/research/from_gpu/other_misc/gasmi/finalRoad/images/val/Sumida_20170915093947.jpg'\n",
            "\u001b[34m\u001b[1mval: \u001b[0mWARNING: /content/gdrive/MyDrive/work/research/from_gpu/other_misc/gasmi/finalRoad/images/val/Sumida_20170915094519.jpg: ignoring corrupt image/label: [Errno 2] No such file or directory: '/content/gdrive/MyDrive/work/research/from_gpu/other_misc/gasmi/finalRoad/images/val/Sumida_20170915094519.jpg'\n",
            "\u001b[34m\u001b[1mval: \u001b[0mWARNING: /content/gdrive/MyDrive/work/research/from_gpu/other_misc/gasmi/finalRoad/images/val/Sumida_20170915100008.jpg: ignoring corrupt image/label: [Errno 2] No such file or directory: '/content/gdrive/MyDrive/work/research/from_gpu/other_misc/gasmi/finalRoad/images/val/Sumida_20170915100008.jpg'\n",
            "\u001b[34m\u001b[1mval: \u001b[0mWARNING: /content/gdrive/MyDrive/work/research/from_gpu/other_misc/gasmi/finalRoad/images/val/Sumida_20170915154815.jpg: ignoring corrupt image/label: [Errno 2] No such file or directory: '/content/gdrive/MyDrive/work/research/from_gpu/other_misc/gasmi/finalRoad/images/val/Sumida_20170915154815.jpg'\n",
            "\u001b[34m\u001b[1mval: \u001b[0mWARNING: /content/gdrive/MyDrive/work/research/from_gpu/other_misc/gasmi/finalRoad/images/val/Sumida_20170915154923.jpg: ignoring corrupt image/label: [Errno 2] No such file or directory: '/content/gdrive/MyDrive/work/research/from_gpu/other_misc/gasmi/finalRoad/images/val/Sumida_20170915154923.jpg'\n",
            "\u001b[34m\u001b[1mval: \u001b[0mWARNING: /content/gdrive/MyDrive/work/research/from_gpu/other_misc/gasmi/finalRoad/images/val/Sumida_20170915154931.jpg: ignoring corrupt image/label: [Errno 2] No such file or directory: '/content/gdrive/MyDrive/work/research/from_gpu/other_misc/gasmi/finalRoad/images/val/Sumida_20170915154931.jpg'\n",
            "\u001b[34m\u001b[1mval: \u001b[0mWARNING: /content/gdrive/MyDrive/work/research/from_gpu/other_misc/gasmi/finalRoad/images/val/Sumida_20170915155118.jpg: ignoring corrupt image/label: [Errno 2] No such file or directory: '/content/gdrive/MyDrive/work/research/from_gpu/other_misc/gasmi/finalRoad/images/val/Sumida_20170915155118.jpg'\n",
            "\u001b[34m\u001b[1mval: \u001b[0mWARNING: /content/gdrive/MyDrive/work/research/from_gpu/other_misc/gasmi/finalRoad/images/val/Sumida_20170915155203.jpg: ignoring corrupt image/label: [Errno 2] No such file or directory: '/content/gdrive/MyDrive/work/research/from_gpu/other_misc/gasmi/finalRoad/images/val/Sumida_20170915155203.jpg'\n",
            "\u001b[34m\u001b[1mval: \u001b[0mWARNING: /content/gdrive/MyDrive/work/research/from_gpu/other_misc/gasmi/finalRoad/images/val/Sumida_20170915160116.jpg: ignoring corrupt image/label: [Errno 2] No such file or directory: '/content/gdrive/MyDrive/work/research/from_gpu/other_misc/gasmi/finalRoad/images/val/Sumida_20170915160116.jpg'\n",
            "\u001b[34m\u001b[1mval: \u001b[0mWARNING: /content/gdrive/MyDrive/work/research/from_gpu/other_misc/gasmi/finalRoad/images/val/Sumida_20170915160126.jpg: ignoring corrupt image/label: [Errno 2] No such file or directory: '/content/gdrive/MyDrive/work/research/from_gpu/other_misc/gasmi/finalRoad/images/val/Sumida_20170915160126.jpg'\n",
            "\u001b[34m\u001b[1mval: \u001b[0mWARNING: /content/gdrive/MyDrive/work/research/from_gpu/other_misc/gasmi/finalRoad/images/val/Sumida_20170915160155.jpg: ignoring corrupt image/label: [Errno 2] No such file or directory: '/content/gdrive/MyDrive/work/research/from_gpu/other_misc/gasmi/finalRoad/images/val/Sumida_20170915160155.jpg'\n",
            "\u001b[34m\u001b[1mval: \u001b[0mWARNING: /content/gdrive/MyDrive/work/research/from_gpu/other_misc/gasmi/finalRoad/images/val/Sumida_20170915160517.jpg: ignoring corrupt image/label: [Errno 2] No such file or directory: '/content/gdrive/MyDrive/work/research/from_gpu/other_misc/gasmi/finalRoad/images/val/Sumida_20170915160517.jpg'\n",
            "\u001b[34m\u001b[1mval: \u001b[0mWARNING: /content/gdrive/MyDrive/work/research/from_gpu/other_misc/gasmi/finalRoad/images/val/Sumida_20170915160929.jpg: ignoring corrupt image/label: [Errno 2] No such file or directory: '/content/gdrive/MyDrive/work/research/from_gpu/other_misc/gasmi/finalRoad/images/val/Sumida_20170915160929.jpg'\n",
            "\u001b[34m\u001b[1mval: \u001b[0mWARNING: /content/gdrive/MyDrive/work/research/from_gpu/other_misc/gasmi/finalRoad/images/val/Sumida_20170915161843.jpg: ignoring corrupt image/label: [Errno 2] No such file or directory: '/content/gdrive/MyDrive/work/research/from_gpu/other_misc/gasmi/finalRoad/images/val/Sumida_20170915161843.jpg'\n",
            "\u001b[34m\u001b[1mval: \u001b[0mWARNING: /content/gdrive/MyDrive/work/research/from_gpu/other_misc/gasmi/finalRoad/images/val/Sumida_20170915162319.jpg: ignoring corrupt image/label: [Errno 2] No such file or directory: '/content/gdrive/MyDrive/work/research/from_gpu/other_misc/gasmi/finalRoad/images/val/Sumida_20170915162319.jpg'\n",
            "\u001b[34m\u001b[1mval: \u001b[0mWARNING: /content/gdrive/MyDrive/work/research/from_gpu/other_misc/gasmi/finalRoad/images/val/Sumida_20170920135709.jpg: ignoring corrupt image/label: [Errno 2] No such file or directory: '/content/gdrive/MyDrive/work/research/from_gpu/other_misc/gasmi/finalRoad/images/val/Sumida_20170920135709.jpg'\n",
            "\u001b[34m\u001b[1mval: \u001b[0mWARNING: /content/gdrive/MyDrive/work/research/from_gpu/other_misc/gasmi/finalRoad/images/val/Sumida_20170920135741.jpg: ignoring corrupt image/label: [Errno 2] No such file or directory: '/content/gdrive/MyDrive/work/research/from_gpu/other_misc/gasmi/finalRoad/images/val/Sumida_20170920135741.jpg'\n",
            "\u001b[34m\u001b[1mval: \u001b[0mWARNING: /content/gdrive/MyDrive/work/research/from_gpu/other_misc/gasmi/finalRoad/images/val/Sumida_20170920140148.jpg: ignoring corrupt image/label: [Errno 2] No such file or directory: '/content/gdrive/MyDrive/work/research/from_gpu/other_misc/gasmi/finalRoad/images/val/Sumida_20170920140148.jpg'\n",
            "\u001b[34m\u001b[1mval: \u001b[0mWARNING: /content/gdrive/MyDrive/work/research/from_gpu/other_misc/gasmi/finalRoad/images/val/Sumida_20170920143438.jpg: ignoring corrupt image/label: [Errno 2] No such file or directory: '/content/gdrive/MyDrive/work/research/from_gpu/other_misc/gasmi/finalRoad/images/val/Sumida_20170920143438.jpg'\n",
            "\u001b[34m\u001b[1mval: \u001b[0mWARNING: /content/gdrive/MyDrive/work/research/from_gpu/other_misc/gasmi/finalRoad/images/val/Sumida_20170920143630.jpg: ignoring corrupt image/label: [Errno 2] No such file or directory: '/content/gdrive/MyDrive/work/research/from_gpu/other_misc/gasmi/finalRoad/images/val/Sumida_20170920143630.jpg'\n",
            "\u001b[34m\u001b[1mval: \u001b[0mWARNING: /content/gdrive/MyDrive/work/research/from_gpu/other_misc/gasmi/finalRoad/images/val/Sumida_20170920145517.jpg: ignoring corrupt image/label: [Errno 2] No such file or directory: '/content/gdrive/MyDrive/work/research/from_gpu/other_misc/gasmi/finalRoad/images/val/Sumida_20170920145517.jpg'\n",
            "\u001b[34m\u001b[1mval: \u001b[0mWARNING: /content/gdrive/MyDrive/work/research/from_gpu/other_misc/gasmi/finalRoad/images/val/Sumida_20170920145519.jpg: ignoring corrupt image/label: [Errno 2] No such file or directory: '/content/gdrive/MyDrive/work/research/from_gpu/other_misc/gasmi/finalRoad/images/val/Sumida_20170920145519.jpg'\n",
            "\u001b[34m\u001b[1mval: \u001b[0mWARNING: /content/gdrive/MyDrive/work/research/from_gpu/other_misc/gasmi/finalRoad/images/val/Sumida_20170920151613.jpg: ignoring corrupt image/label: [Errno 2] No such file or directory: '/content/gdrive/MyDrive/work/research/from_gpu/other_misc/gasmi/finalRoad/images/val/Sumida_20170920151613.jpg'\n",
            "\u001b[34m\u001b[1mval: \u001b[0mWARNING: /content/gdrive/MyDrive/work/research/from_gpu/other_misc/gasmi/finalRoad/images/val/Sumida_20170920151701.jpg: ignoring corrupt image/label: [Errno 2] No such file or directory: '/content/gdrive/MyDrive/work/research/from_gpu/other_misc/gasmi/finalRoad/images/val/Sumida_20170920151701.jpg'\n",
            "\u001b[34m\u001b[1mval: \u001b[0mWARNING: /content/gdrive/MyDrive/work/research/from_gpu/other_misc/gasmi/finalRoad/images/val/Sumida_20170920151717.jpg: ignoring corrupt image/label: [Errno 2] No such file or directory: '/content/gdrive/MyDrive/work/research/from_gpu/other_misc/gasmi/finalRoad/images/val/Sumida_20170920151717.jpg'\n",
            "\u001b[34m\u001b[1mval: \u001b[0mWARNING: /content/gdrive/MyDrive/work/research/from_gpu/other_misc/gasmi/finalRoad/images/val/Sumida_20170920151804.jpg: ignoring corrupt image/label: [Errno 2] No such file or directory: '/content/gdrive/MyDrive/work/research/from_gpu/other_misc/gasmi/finalRoad/images/val/Sumida_20170920151804.jpg'\n",
            "\u001b[34m\u001b[1mval: \u001b[0mWARNING: /content/gdrive/MyDrive/work/research/from_gpu/other_misc/gasmi/finalRoad/images/val/Sumida_20170920153355.jpg: ignoring corrupt image/label: [Errno 2] No such file or directory: '/content/gdrive/MyDrive/work/research/from_gpu/other_misc/gasmi/finalRoad/images/val/Sumida_20170920153355.jpg'\n",
            "\u001b[34m\u001b[1mval: \u001b[0mWARNING: /content/gdrive/MyDrive/work/research/from_gpu/other_misc/gasmi/finalRoad/images/val/Sumida_20170920153442.jpg: ignoring corrupt image/label: [Errno 2] No such file or directory: '/content/gdrive/MyDrive/work/research/from_gpu/other_misc/gasmi/finalRoad/images/val/Sumida_20170920153442.jpg'\n",
            "\u001b[34m\u001b[1mval: \u001b[0mWARNING: /content/gdrive/MyDrive/work/research/from_gpu/other_misc/gasmi/finalRoad/images/val/Sumida_20170920160833.jpg: ignoring corrupt image/label: [Errno 2] No such file or directory: '/content/gdrive/MyDrive/work/research/from_gpu/other_misc/gasmi/finalRoad/images/val/Sumida_20170920160833.jpg'\n",
            "\u001b[34m\u001b[1mval: \u001b[0mWARNING: /content/gdrive/MyDrive/work/research/from_gpu/other_misc/gasmi/finalRoad/images/val/Sumida_20170920163655.jpg: ignoring corrupt image/label: [Errno 2] No such file or directory: '/content/gdrive/MyDrive/work/research/from_gpu/other_misc/gasmi/finalRoad/images/val/Sumida_20170920163655.jpg'\n",
            "\u001b[34m\u001b[1mval: \u001b[0mWARNING: /content/gdrive/MyDrive/work/research/from_gpu/other_misc/gasmi/finalRoad/images/val/Sumida_20170920163710.jpg: ignoring corrupt image/label: [Errno 2] No such file or directory: '/content/gdrive/MyDrive/work/research/from_gpu/other_misc/gasmi/finalRoad/images/val/Sumida_20170920163710.jpg'\n",
            "\u001b[34m\u001b[1mval: \u001b[0mWARNING: /content/gdrive/MyDrive/work/research/from_gpu/other_misc/gasmi/finalRoad/images/val/Sumida_20170920163726.jpg: ignoring corrupt image/label: [Errno 2] No such file or directory: '/content/gdrive/MyDrive/work/research/from_gpu/other_misc/gasmi/finalRoad/images/val/Sumida_20170920163726.jpg'\n",
            "\u001b[34m\u001b[1mval: \u001b[0mWARNING: /content/gdrive/MyDrive/work/research/from_gpu/other_misc/gasmi/finalRoad/images/val/Sumida_20170920163733.jpg: ignoring corrupt image/label: [Errno 2] No such file or directory: '/content/gdrive/MyDrive/work/research/from_gpu/other_misc/gasmi/finalRoad/images/val/Sumida_20170920163733.jpg'\n",
            "\u001b[34m\u001b[1mval: \u001b[0mWARNING: /content/gdrive/MyDrive/work/research/from_gpu/other_misc/gasmi/finalRoad/images/val/Sumida_20170920165541.jpg: ignoring corrupt image/label: [Errno 2] No such file or directory: '/content/gdrive/MyDrive/work/research/from_gpu/other_misc/gasmi/finalRoad/images/val/Sumida_20170920165541.jpg'\n",
            "\u001b[34m\u001b[1mval: \u001b[0mWARNING: /content/gdrive/MyDrive/work/research/from_gpu/other_misc/gasmi/finalRoad/images/val/Sumida_20170921090908.jpg: ignoring corrupt image/label: [Errno 2] No such file or directory: '/content/gdrive/MyDrive/work/research/from_gpu/other_misc/gasmi/finalRoad/images/val/Sumida_20170921090908.jpg'\n",
            "\u001b[34m\u001b[1mval: \u001b[0mWARNING: /content/gdrive/MyDrive/work/research/from_gpu/other_misc/gasmi/finalRoad/images/val/Sumida_20170921093028.jpg: ignoring corrupt image/label: [Errno 2] No such file or directory: '/content/gdrive/MyDrive/work/research/from_gpu/other_misc/gasmi/finalRoad/images/val/Sumida_20170921093028.jpg'\n",
            "\u001b[34m\u001b[1mval: \u001b[0mWARNING: /content/gdrive/MyDrive/work/research/from_gpu/other_misc/gasmi/finalRoad/images/val/Sumida_20170921093119.jpg: ignoring corrupt image/label: [Errno 2] No such file or directory: '/content/gdrive/MyDrive/work/research/from_gpu/other_misc/gasmi/finalRoad/images/val/Sumida_20170921093119.jpg'\n",
            "\u001b[34m\u001b[1mval: \u001b[0mWARNING: /content/gdrive/MyDrive/work/research/from_gpu/other_misc/gasmi/finalRoad/images/val/Sumida_20170921093956.jpg: ignoring corrupt image/label: [Errno 2] No such file or directory: '/content/gdrive/MyDrive/work/research/from_gpu/other_misc/gasmi/finalRoad/images/val/Sumida_20170921093956.jpg'\n",
            "\u001b[34m\u001b[1mval: \u001b[0mNew cache created: /content/gdrive/MyDrive/work/research/from_gpu/other_misc/gasmi/finalRoad/labels/val.cache\n",
            "Plotting labels to runs/train/RoadTrainModel7/labels.jpg... \n",
            "\n",
            "\u001b[34m\u001b[1mAutoAnchor: \u001b[0m3.94 anchors/target, 0.991 Best Possible Recall (BPR). Current anchors are a good fit to dataset ✅\n",
            "Image sizes 640 train, 640 val\n",
            "Using 2 dataloader workers\n",
            "Logging results to \u001b[1mruns/train/RoadTrainModel7\u001b[0m\n",
            "Starting training for 10 epochs...\n",
            "\n",
            "     Epoch   gpu_mem       box       obj       cls    labels  img_size\n",
            "       0/9        0G    0.1189   0.02984   0.06496        99       640:   2% 4/227 [03:58<3:41:13, 59.52s/it]\n",
            "Traceback (most recent call last):\n",
            "  File \"train.py\", line 643, in <module>\n",
            "    main(opt)\n",
            "  File \"train.py\", line 539, in main\n",
            "    train(opt.hyp, opt, device, callbacks)\n",
            "  File \"train.py\", line 305, in train\n",
            "    for i, (imgs, targets, paths, _) in pbar:  # batch -------------------------------------------------------------\n",
            "  File \"/usr/local/lib/python3.7/dist-packages/tqdm/std.py\", line 1195, in __iter__\n",
            "    for obj in iterable:\n",
            "  File \"/content/gdrive/MyDrive/work/research/from_gpu/other_misc/gasmi/yolov5/utils/datasets.py\", line 141, in __iter__\n",
            "    yield next(self.iterator)\n",
            "  File \"/usr/local/lib/python3.7/dist-packages/torch/utils/data/dataloader.py\", line 521, in __next__\n",
            "    data = self._next_data()\n",
            "  File \"/usr/local/lib/python3.7/dist-packages/torch/utils/data/dataloader.py\", line 1203, in _next_data\n",
            "    return self._process_data(data)\n",
            "  File \"/usr/local/lib/python3.7/dist-packages/torch/utils/data/dataloader.py\", line 1229, in _process_data\n",
            "    data.reraise()\n",
            "  File \"/usr/local/lib/python3.7/dist-packages/torch/_utils.py\", line 434, in reraise\n",
            "    raise exception\n",
            "AssertionError: Caught AssertionError in DataLoader worker process 0.\n",
            "Original Traceback (most recent call last):\n",
            "  File \"/usr/local/lib/python3.7/dist-packages/torch/utils/data/_utils/worker.py\", line 287, in _worker_loop\n",
            "    data = fetcher.fetch(index)\n",
            "  File \"/usr/local/lib/python3.7/dist-packages/torch/utils/data/_utils/fetch.py\", line 49, in fetch\n",
            "    data = [self.dataset[idx] for idx in possibly_batched_index]\n",
            "  File \"/usr/local/lib/python3.7/dist-packages/torch/utils/data/_utils/fetch.py\", line 49, in <listcomp>\n",
            "    data = [self.dataset[idx] for idx in possibly_batched_index]\n",
            "  File \"/content/gdrive/MyDrive/work/research/from_gpu/other_misc/gasmi/yolov5/utils/datasets.py\", line 557, in __getitem__\n",
            "    img, labels = self.load_mosaic(index)\n",
            "  File \"/content/gdrive/MyDrive/work/research/from_gpu/other_misc/gasmi/yolov5/utils/datasets.py\", line 657, in load_mosaic\n",
            "    img, _, (h, w) = self.load_image(index)\n",
            "  File \"/content/gdrive/MyDrive/work/research/from_gpu/other_misc/gasmi/yolov5/utils/datasets.py\", line 631, in load_image\n",
            "    assert im is not None, f'Image Not Found {f}'\n",
            "AssertionError: Image Not Found /content/gdrive/MyDrive/work/research/from_gpu/other_misc/gasmi/finalRoad/images/train/Adachi_20170921111224.jpg\n",
            "\n"
          ]
        }
      ],
      "source": [
        "! python train.py --data dataRoad.yaml --cfg yolov5s.yaml --batch-size 32 --epochs 10 --name RoadTrainModel"
      ]
    },
    {
      "cell_type": "code",
      "execution_count": null,
      "metadata": {
        "id": "v_ke8Vc7-_1w"
      },
      "outputs": [],
      "source": [
        "! python detect.py --source ../Road_Sign_Dataset/images/test/ --weights runs/train/yolo_road_det/weights/best.pt --conf 0.25 --name yolo_road_det"
      ]
    },
    {
      "cell_type": "code",
      "execution_count": null,
      "metadata": {
        "id": "qBSYJhL0BoS2"
      },
      "outputs": [],
      "source": [
        ""
      ]
    }
  ],
  "metadata": {
    "accelerator": "GPU",
    "colab": {
      "name": "02_TrainYolo",
      "provenance": [],
      "include_colab_link": true
    },
    "kernelspec": {
      "display_name": "Python 3",
      "name": "python3"
    },
    "language_info": {
      "name": "python"
    }
  },
  "nbformat": 4,
  "nbformat_minor": 0
}
